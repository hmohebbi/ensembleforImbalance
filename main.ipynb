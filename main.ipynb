{
  "nbformat": 4,
  "nbformat_minor": 0,
  "metadata": {
    "colab": {
      "name": "Pattern2.ipynb",
      "provenance": [],
      "collapsed_sections": []
    },
    "kernelspec": {
      "name": "python3",
      "display_name": "Python 3"
    }
  },
  "cells": [
    {
      "cell_type": "markdown",
      "metadata": {
        "id": "MgZLj0tkF8RU",
        "colab_type": "text"
      },
      "source": [
        "# Ensemble Classifiers for Imbalanced Dataset\n"
      ]
    },
    {
      "cell_type": "markdown",
      "metadata": {
        "id": "2OEd2YzQza4D",
        "colab_type": "text"
      },
      "source": [
        "A dataset is imbalanced if the classification categories are not approximately equally represented. \n",
        "Data sampling techniques attempt to alleviate the problem of class imbalance by adjusting the class distribution of the training data set. This can be accomplished by either removing examples from the majority class (undersampling) or adding examples to the minority class (oversampling).\n",
        "\n",
        "In this repository, SMOTEBoost, RB-Boost, and RUS-Boost as three approaches to building ensembles of classifiers for two-class imbalanced data sets have been implemented and their performance measures and ROC curves on 5-fold imbalanced <a href=\"https://sci2s.ugr.es/keel/dataset.php?cod=999\">yeast</a> dataset have been reported and their results have been compared with SVM classifier and AdaBoost-M2 and RandomForest ensembles.\n",
        "\n"
      ]
    },
    {
      "cell_type": "markdown",
      "metadata": {
        "id": "KCBAw0-t1A8E",
        "colab_type": "text"
      },
      "source": [
        "# References:\n",
        "\n",
        "> <a href=\"https://dl.acm.org/doi/abs/10.5555/1622407.1622416\">[1]</a> Chawla, Nitesh V., et al. \"SMOTE: synthetic minority over-sampling technique.\" Journal of artificial intelligence research 16 (2002): 321-357.\n",
        "\n",
        "> <a href=\"https://link.springer.com/content/pdf/10.1007/978-3-540-39804-2_12.pdf\">[2]</a> Chawla, Nitesh V., et al. \"SMOTEBoost: Improving prediction of the minority class in boosting.\" European conference on principles of data mining and knowledge discovery. Springer, Berlin, Heidelberg, 2003.\n",
        "\n",
        "> <a href=\"http://citeseerx.ist.psu.edu/viewdoc/download?doi=10.1.1.51.6252&rep=rep1&type=pdf\">[3]</a> Freund, Yoav, and Robert E. Schapire. \"Experiments with a new boosting algorithm.\" icml. Vol. 96. 1996.\n",
        "\n",
        "> <a href=\"https://www.sciencedirect.com/science/article/pii/S0950705115001720\">[4]</a> Díez-Pastor, José F., et al. \"Random balance: ensembles of variable priors classifiers for imbalanced data.\" Knowledge-Based Systems 85 (2015): 96-111.\n",
        "\n",
        "> <a href=\"http://citeseerx.ist.psu.edu/viewdoc/download?doi=10.1.1.309.2305&rep=rep1&type=pdf\">[5]</a> Seiffert, Chris, et al. \"RUSBoost: A hybrid approach to alleviating class imbalance.\" IEEE Transactions on Systems, Man, and Cybernetics-Part A: Systems and Humans 40.1 (2009): 185-197."
      ]
    },
    {
      "cell_type": "code",
      "metadata": {
        "id": "G_-HhMODNKmM",
        "colab_type": "code",
        "colab": {}
      },
      "source": [
        "from google.colab import drive\n",
        "import os\n",
        "import glob\n",
        "import numpy as np\n",
        "import random  \n",
        "import pandas as pd \n",
        "from sklearn.model_selection import train_test_split\n",
        "from sklearn.ensemble import AdaBoostClassifier\n",
        "from sklearn.tree import DecisionTreeClassifier\n",
        "from sklearn.metrics import accuracy_score\n",
        "from sklearn.metrics import roc_curve\n",
        "from sklearn.svm import SVC\n",
        "from sklearn.ensemble import RandomForestClassifier\n",
        "from sklearn.metrics import recall_score\n",
        "from sklearn.metrics import precision_score\n",
        "import matplotlib.pyplot as plt"
      ],
      "execution_count": 0,
      "outputs": []
    },
    {
      "cell_type": "code",
      "metadata": {
        "id": "Tl7gaDvvd0o0",
        "colab_type": "code",
        "outputId": "aa483430-d984-4d69-f5ab-8c117741a001",
        "colab": {
          "base_uri": "https://localhost:8080/",
          "height": 34
        }
      },
      "source": [
        "drive.mount('/content/gdrive')"
      ],
      "execution_count": 7,
      "outputs": [
        {
          "output_type": "stream",
          "text": [
            "Drive already mounted at /content/gdrive; to attempt to forcibly remount, call drive.mount(\"/content/gdrive\", force_remount=True).\n"
          ],
          "name": "stdout"
        }
      ]
    },
    {
      "cell_type": "code",
      "metadata": {
        "id": "ic3kdoGjZBfo",
        "colab_type": "code",
        "colab": {}
      },
      "source": [
        "!unzip /content/gdrive/My\\ Drive/Dataset/Imbalanced_Dataset/yeast-0-2-5-6_vs_3-7-8-9-5-fold.zip > /dev/null\n",
        "!unzip /content/gdrive/My\\ Drive/Dataset/Imbalanced_Dataset/yeast-0-2-5-6_vs_3-7-8-9.zip > /dev/null"
      ],
      "execution_count": 0,
      "outputs": []
    },
    {
      "cell_type": "code",
      "metadata": {
        "id": "eg1SpWyHeuvp",
        "colab_type": "code",
        "outputId": "68ace59a-7cb9-4333-b827-62a717d304f1",
        "colab": {
          "base_uri": "https://localhost:8080/",
          "height": 139
        }
      },
      "source": [
        "!ls "
      ],
      "execution_count": 9,
      "outputs": [
        {
          "output_type": "stream",
          "text": [
            "gdrive\t\t\t\t     yeast-0-2-5-6_vs_3-7-8-9-5-3tst.dat\n",
            "sample_data\t\t\t     yeast-0-2-5-6_vs_3-7-8-9-5-4tra.dat\n",
            "yeast-0-2-5-6_vs_3-7-8-9-5-1tra.dat  yeast-0-2-5-6_vs_3-7-8-9-5-4tst.dat\n",
            "yeast-0-2-5-6_vs_3-7-8-9-5-1tst.dat  yeast-0-2-5-6_vs_3-7-8-9-5-5tra.dat\n",
            "yeast-0-2-5-6_vs_3-7-8-9-5-2tra.dat  yeast-0-2-5-6_vs_3-7-8-9-5-5tst.dat\n",
            "yeast-0-2-5-6_vs_3-7-8-9-5-2tst.dat  yeast-0-2-5-6_vs_3-7-8-9.dat\n",
            "yeast-0-2-5-6_vs_3-7-8-9-5-3tra.dat\n"
          ],
          "name": "stdout"
        }
      ]
    },
    {
      "cell_type": "markdown",
      "metadata": {
        "id": "7xopfU0kNIaO",
        "colab_type": "text"
      },
      "source": [
        "## Loading 5-folds cross validation dataset"
      ]
    },
    {
      "cell_type": "code",
      "metadata": {
        "id": "gkbcCAu9zREP",
        "colab_type": "code",
        "colab": {}
      },
      "source": [
        "kFold = 5"
      ],
      "execution_count": 0,
      "outputs": []
    },
    {
      "cell_type": "code",
      "metadata": {
        "id": "VJOZZ_o4JaZO",
        "colab_type": "code",
        "colab": {}
      },
      "source": [
        "traFiles = sorted(glob.glob('*tra.dat'))\n",
        "tstFiles = sorted(glob.glob('*tst.dat'))\n",
        "X_train = []\n",
        "Y_train = []\n",
        "X_test = []\n",
        "Y_test = []\n",
        "\n",
        "col_names = ['mcg', 'gvh', 'alm', 'mit', 'erl', 'pox', 'vac', 'nuc', 'Class']\n",
        "\n",
        "for traPath, tstPath in zip(traFiles, tstFiles):\n",
        "  df_train = pd.read_csv(traPath, skiprows=13, names=col_names, sep=r', ')\n",
        "  df_test = pd.read_csv(tstPath, skiprows=13, names=col_names, sep=r', ')\n",
        "\n",
        "  df_train['Class'] = (df_train['Class'] == 'negative').astype(int)\n",
        "  df_test['Class'] = (df_test['Class'] == 'negative').astype(int)\n",
        "  \n",
        "  X_train.append(df_train[col_names[0:8]])#11\n",
        "  X_test.append(df_test[col_names[0:8]])\n",
        "\n",
        "  Y_train.append(df_train['Class'].values.tolist())\n",
        "  Y_test.append(df_test['Class'].values.tolist())\n",
        "\n",
        "for i in range(kFold):\n",
        "  X_train[i] = X_train[i].values.tolist() # pandas data frame to list of lists \n",
        "  X_test[i] = X_test[i].values.tolist()\n",
        "\n",
        "# needed in plot roc curve\n",
        "df_all = pd.read_csv(\"yeast-0-2-5-6_vs_3-7-8-9.dat\", skiprows=13, names=col_names, sep=r',')\n",
        "df_all['Class'] = (df_all['Class'] == 'negative').astype(int)\n",
        "X_train_all, X_test_all, Y_train_all, Y_test_all = train_test_split(df_all[col_names[0:8]], df_all['Class'].values.tolist(), test_size=0.33)\n",
        "X_train_all = X_train_all.values.tolist()\n",
        "X_test_all = X_test_all.values.tolist()"
      ],
      "execution_count": 0,
      "outputs": []
    },
    {
      "cell_type": "code",
      "metadata": {
        "id": "mEudSy5lwqsB",
        "colab_type": "code",
        "colab": {
          "base_uri": "https://localhost:8080/",
          "height": 424
        },
        "outputId": "fb22f3d4-524d-4d6d-bc14-26738bb553eb"
      },
      "source": [
        "df_all"
      ],
      "execution_count": 15,
      "outputs": [
        {
          "output_type": "execute_result",
          "data": {
            "text/html": [
              "<div>\n",
              "<style scoped>\n",
              "    .dataframe tbody tr th:only-of-type {\n",
              "        vertical-align: middle;\n",
              "    }\n",
              "\n",
              "    .dataframe tbody tr th {\n",
              "        vertical-align: top;\n",
              "    }\n",
              "\n",
              "    .dataframe thead th {\n",
              "        text-align: right;\n",
              "    }\n",
              "</style>\n",
              "<table border=\"1\" class=\"dataframe\">\n",
              "  <thead>\n",
              "    <tr style=\"text-align: right;\">\n",
              "      <th></th>\n",
              "      <th>mcg</th>\n",
              "      <th>gvh</th>\n",
              "      <th>alm</th>\n",
              "      <th>mit</th>\n",
              "      <th>erl</th>\n",
              "      <th>pox</th>\n",
              "      <th>vac</th>\n",
              "      <th>nuc</th>\n",
              "      <th>Class</th>\n",
              "    </tr>\n",
              "  </thead>\n",
              "  <tbody>\n",
              "    <tr>\n",
              "      <th>0</th>\n",
              "      <td>0.58</td>\n",
              "      <td>0.61</td>\n",
              "      <td>0.47</td>\n",
              "      <td>0.13</td>\n",
              "      <td>0.5</td>\n",
              "      <td>0.0</td>\n",
              "      <td>0.48</td>\n",
              "      <td>0.22</td>\n",
              "      <td>1</td>\n",
              "    </tr>\n",
              "    <tr>\n",
              "      <th>1</th>\n",
              "      <td>0.43</td>\n",
              "      <td>0.67</td>\n",
              "      <td>0.48</td>\n",
              "      <td>0.27</td>\n",
              "      <td>0.5</td>\n",
              "      <td>0.0</td>\n",
              "      <td>0.53</td>\n",
              "      <td>0.22</td>\n",
              "      <td>1</td>\n",
              "    </tr>\n",
              "    <tr>\n",
              "      <th>2</th>\n",
              "      <td>0.64</td>\n",
              "      <td>0.62</td>\n",
              "      <td>0.49</td>\n",
              "      <td>0.15</td>\n",
              "      <td>0.5</td>\n",
              "      <td>0.0</td>\n",
              "      <td>0.53</td>\n",
              "      <td>0.22</td>\n",
              "      <td>1</td>\n",
              "    </tr>\n",
              "    <tr>\n",
              "      <th>3</th>\n",
              "      <td>0.42</td>\n",
              "      <td>0.44</td>\n",
              "      <td>0.48</td>\n",
              "      <td>0.54</td>\n",
              "      <td>0.5</td>\n",
              "      <td>0.0</td>\n",
              "      <td>0.48</td>\n",
              "      <td>0.22</td>\n",
              "      <td>1</td>\n",
              "    </tr>\n",
              "    <tr>\n",
              "      <th>4</th>\n",
              "      <td>0.50</td>\n",
              "      <td>0.54</td>\n",
              "      <td>0.48</td>\n",
              "      <td>0.65</td>\n",
              "      <td>0.5</td>\n",
              "      <td>0.0</td>\n",
              "      <td>0.53</td>\n",
              "      <td>0.22</td>\n",
              "      <td>1</td>\n",
              "    </tr>\n",
              "    <tr>\n",
              "      <th>...</th>\n",
              "      <td>...</td>\n",
              "      <td>...</td>\n",
              "      <td>...</td>\n",
              "      <td>...</td>\n",
              "      <td>...</td>\n",
              "      <td>...</td>\n",
              "      <td>...</td>\n",
              "      <td>...</td>\n",
              "      <td>...</td>\n",
              "    </tr>\n",
              "    <tr>\n",
              "      <th>999</th>\n",
              "      <td>0.78</td>\n",
              "      <td>0.74</td>\n",
              "      <td>0.58</td>\n",
              "      <td>0.25</td>\n",
              "      <td>1.0</td>\n",
              "      <td>0.0</td>\n",
              "      <td>0.53</td>\n",
              "      <td>0.22</td>\n",
              "      <td>0</td>\n",
              "    </tr>\n",
              "    <tr>\n",
              "      <th>1000</th>\n",
              "      <td>0.77</td>\n",
              "      <td>0.80</td>\n",
              "      <td>0.51</td>\n",
              "      <td>0.40</td>\n",
              "      <td>1.0</td>\n",
              "      <td>0.0</td>\n",
              "      <td>0.54</td>\n",
              "      <td>0.22</td>\n",
              "      <td>0</td>\n",
              "    </tr>\n",
              "    <tr>\n",
              "      <th>1001</th>\n",
              "      <td>0.85</td>\n",
              "      <td>0.56</td>\n",
              "      <td>0.33</td>\n",
              "      <td>0.38</td>\n",
              "      <td>1.0</td>\n",
              "      <td>0.0</td>\n",
              "      <td>0.55</td>\n",
              "      <td>0.25</td>\n",
              "      <td>0</td>\n",
              "    </tr>\n",
              "    <tr>\n",
              "      <th>1002</th>\n",
              "      <td>0.86</td>\n",
              "      <td>0.92</td>\n",
              "      <td>0.50</td>\n",
              "      <td>0.37</td>\n",
              "      <td>1.0</td>\n",
              "      <td>0.0</td>\n",
              "      <td>0.53</td>\n",
              "      <td>0.32</td>\n",
              "      <td>0</td>\n",
              "    </tr>\n",
              "    <tr>\n",
              "      <th>1003</th>\n",
              "      <td>0.70</td>\n",
              "      <td>0.84</td>\n",
              "      <td>0.49</td>\n",
              "      <td>0.28</td>\n",
              "      <td>1.0</td>\n",
              "      <td>0.0</td>\n",
              "      <td>0.58</td>\n",
              "      <td>0.22</td>\n",
              "      <td>0</td>\n",
              "    </tr>\n",
              "  </tbody>\n",
              "</table>\n",
              "<p>1004 rows × 9 columns</p>\n",
              "</div>"
            ],
            "text/plain": [
              "       mcg   gvh   alm   mit  erl  pox   vac   nuc  Class\n",
              "0     0.58  0.61  0.47  0.13  0.5  0.0  0.48  0.22      1\n",
              "1     0.43  0.67  0.48  0.27  0.5  0.0  0.53  0.22      1\n",
              "2     0.64  0.62  0.49  0.15  0.5  0.0  0.53  0.22      1\n",
              "3     0.42  0.44  0.48  0.54  0.5  0.0  0.48  0.22      1\n",
              "4     0.50  0.54  0.48  0.65  0.5  0.0  0.53  0.22      1\n",
              "...    ...   ...   ...   ...  ...  ...   ...   ...    ...\n",
              "999   0.78  0.74  0.58  0.25  1.0  0.0  0.53  0.22      0\n",
              "1000  0.77  0.80  0.51  0.40  1.0  0.0  0.54  0.22      0\n",
              "1001  0.85  0.56  0.33  0.38  1.0  0.0  0.55  0.25      0\n",
              "1002  0.86  0.92  0.50  0.37  1.0  0.0  0.53  0.32      0\n",
              "1003  0.70  0.84  0.49  0.28  1.0  0.0  0.58  0.22      0\n",
              "\n",
              "[1004 rows x 9 columns]"
            ]
          },
          "metadata": {
            "tags": []
          },
          "execution_count": 15
        }
      ]
    },
    {
      "cell_type": "markdown",
      "metadata": {
        "id": "hcKZX3QGuBxB",
        "colab_type": "text"
      },
      "source": [
        "Minority Class Label : 0 (positive)"
      ]
    },
    {
      "cell_type": "markdown",
      "metadata": {
        "id": "_cWQKHTD56sB",
        "colab_type": "text"
      },
      "source": [
        "### A function for training, evaluating and calculating metrics:"
      ]
    },
    {
      "cell_type": "code",
      "metadata": {
        "id": "ArwOW67Rc2EK",
        "colab_type": "code",
        "colab": {}
      },
      "source": [
        "def classify(model, classifier_name):\n",
        "  acc = precision = recall = 0\n",
        "\n",
        "  for i in range(kFold):\n",
        "    # Training \n",
        "    model.fit(X_train[i], Y_train[i])\n",
        "\n",
        "\n",
        "    # Evaluation\n",
        "    y_pred = model.predict(X_test[i])\n",
        "\n",
        "    # Result\n",
        "    acc += accuracy_score(Y_test[i], y_pred)\n",
        "    precision += precision_score(Y_test[i], y_pred, average='macro', zero_division=0)\n",
        "    recall += recall_score(Y_test[i], y_pred, average='macro', zero_division=0)\n",
        "  \n",
        "  acc /= kFold\n",
        "  precision /= kFold\n",
        "  recall /= kFold\n",
        "\n",
        "  print(\"{} Accuracy: {:.2f}\".format(classifier_name, acc))\n",
        "  print(\"{} Precision: {:.2f}\".format(classifier_name, precision))\n",
        "  print(\"{} Recall: {:.2f}\".format(classifier_name, recall))\n",
        "\n",
        "  # ROC Curve\n",
        "  model.fit(X_train_all, Y_train_all)\n",
        "  support = model.predict_proba(X_test_all)\n",
        "  probs = support.T / np.sum(support,axis = 1)\n",
        "  support = probs.T[:,0]\n",
        "  \n",
        "  fpr, tpr, thresholds = roc_curve(Y_test_all, support, pos_label=0) # 0 is minority class label\n",
        "  plt.title('ROC Positive(0) Class')\n",
        "  plt.xlabel('FPR')\n",
        "  plt.ylabel('TPR')\n",
        "  plt.plot(fpr, tpr)\n",
        "  plt.show()\n",
        "\n",
        "  return acc, precision, recall"
      ],
      "execution_count": 0,
      "outputs": []
    },
    {
      "cell_type": "markdown",
      "metadata": {
        "id": "9KJezK2obKQE",
        "colab_type": "text"
      },
      "source": [
        "## SVM"
      ]
    },
    {
      "cell_type": "code",
      "metadata": {
        "id": "QA1UJqvybvrq",
        "colab_type": "code",
        "outputId": "f2591d3d-a4d1-4383-f46a-e8515e88d2f6",
        "colab": {
          "base_uri": "https://localhost:8080/",
          "height": 347
        }
      },
      "source": [
        "model = SVC(kernel ='linear', C = 1, probability=True)\n",
        "acc_svm, precision_svm, recall_svm = classify(model, \"SVM\")"
      ],
      "execution_count": 38,
      "outputs": [
        {
          "output_type": "stream",
          "text": [
            "SVM Accuracy: 0.91\n",
            "SVM Precision: 0.82\n",
            "SVM Recall: 0.55\n"
          ],
          "name": "stdout"
        },
        {
          "output_type": "display_data",
          "data": {
            "image/png": "[encoded data removed]",
            "text/plain": [
              "<Figure size 432x288 with 1 Axes>"
            ]
          },
          "metadata": {
            "tags": []
          }
        }
      ]
    },
    {
      "cell_type": "markdown",
      "metadata": {
        "id": "CqDfsmMg4YZN",
        "colab_type": "text"
      },
      "source": [
        "## Random Forest"
      ]
    },
    {
      "cell_type": "markdown",
      "metadata": {
        "id": "SxCTa5Sr7SEJ",
        "colab_type": "text"
      },
      "source": [
        "### L = 10"
      ]
    },
    {
      "cell_type": "code",
      "metadata": {
        "id": "k0hm9sUC4bMR",
        "colab_type": "code",
        "outputId": "8b7cdb1b-92c3-4bb9-e442-f5becb1f9578",
        "colab": {
          "base_uri": "https://localhost:8080/",
          "height": 347
        }
      },
      "source": [
        "model = RandomForestClassifier(n_estimators=10, max_depth=2)\n",
        "acc_RF_L10, precision_RF_L10, recall_RF_L10 = classify(model, \"Random Forest L10\")"
      ],
      "execution_count": 41,
      "outputs": [
        {
          "output_type": "stream",
          "text": [
            "Random Forest L10 Accuracy: 0.91\n",
            "Random Forest L10 Precision: 0.78\n",
            "Random Forest L10 Recall: 0.58\n"
          ],
          "name": "stdout"
        },
        {
          "output_type": "display_data",
          "data": {
            "image/png": "[encoded data removed]",
            "text/plain": [
              "<Figure size 432x288 with 1 Axes>"
            ]
          },
          "metadata": {
            "tags": []
          }
        }
      ]
    },
    {
      "cell_type": "markdown",
      "metadata": {
        "id": "ObFYrhgv7VGN",
        "colab_type": "text"
      },
      "source": [
        "### L = 50"
      ]
    },
    {
      "cell_type": "code",
      "metadata": {
        "id": "mgOaROUj4-7t",
        "colab_type": "code",
        "outputId": "dcef39d7-8aca-4450-f1b3-23d751ef33c1",
        "colab": {
          "base_uri": "https://localhost:8080/",
          "height": 347
        }
      },
      "source": [
        "model = RandomForestClassifier(n_estimators=50, max_depth=2)\n",
        "acc_RF_L50, precision_RF_L50, recall_RF_L50 = classify(model, \"Random Forest L50\")"
      ],
      "execution_count": 42,
      "outputs": [
        {
          "output_type": "stream",
          "text": [
            "Random Forest L50 Accuracy: 0.91\n",
            "Random Forest L50 Precision: 0.75\n",
            "Random Forest L50 Recall: 0.54\n"
          ],
          "name": "stdout"
        },
        {
          "output_type": "display_data",
          "data": {
            "image/png": "[encoded data removed]",
            "text/plain": [
              "<Figure size 432x288 with 1 Axes>"
            ]
          },
          "metadata": {
            "tags": []
          }
        }
      ]
    },
    {
      "cell_type": "markdown",
      "metadata": {
        "id": "xfQt7MMt7Wef",
        "colab_type": "text"
      },
      "source": [
        "### L = 100"
      ]
    },
    {
      "cell_type": "code",
      "metadata": {
        "id": "6jtmKB2g7YCa",
        "colab_type": "code",
        "outputId": "9cd8821d-ce6c-4951-d31b-ed9beede8975",
        "colab": {
          "base_uri": "https://localhost:8080/",
          "height": 347
        }
      },
      "source": [
        "model = RandomForestClassifier(n_estimators=100, max_depth=2)\n",
        "acc_RF_L100, precision_RF_L100, recall_RF_L100 = classify(model, \"Random Forest L100\")"
      ],
      "execution_count": 44,
      "outputs": [
        {
          "output_type": "stream",
          "text": [
            "Random Forest L100 Accuracy: 0.91\n",
            "Random Forest L100 Precision: 0.75\n",
            "Random Forest L100 Recall: 0.53\n"
          ],
          "name": "stdout"
        },
        {
          "output_type": "display_data",
          "data": {
            "image/png": "[encoded data removed]",
            "text/plain": [
              "<Figure size 432x288 with 1 Axes>"
            ]
          },
          "metadata": {
            "tags": []
          }
        }
      ]
    },
    {
      "cell_type": "markdown",
      "metadata": {
        "id": "nbcjbraayqT2",
        "colab_type": "text"
      },
      "source": [
        "# SMOTE"
      ]
    },
    {
      "cell_type": "markdown",
      "metadata": {
        "id": "06LkRHapkjEr",
        "colab_type": "text"
      },
      "source": [
        "Synthetic Minority Over-sampling Technique (SMOTE) is an over-sampling approach in which the minority class is over-sampled by creating “synthetic” examples in feature space.\n",
        "\n",
        "Synthetic samples are generated in the following way: Take the difference between the feature vector (sample) under consideration and its nearest neighbor. Multiply this difference by a random number between 0 and 1, and add it to the feature vector under consideration. This causes the selection of a random point along the line segment between two specific features. This approach effectively forces the decision region of the minority class to become more general.\n",
        "Depending upon the amount of over-sampling required, neighbors from the k nearest neighbors are randomly chosen. According to the reference paper[1], this implementation uses five nearest neighbors.\n",
        "\n",
        "To reuse the SMOTE algorithm in the Random-Balancex algorithm, in this implementation, unlike the algorithm mentioned in the reference paper, we consider the input parameter N the number of new synthetic data, instead of its percentage."
      ]
    },
    {
      "cell_type": "code",
      "metadata": {
        "id": "i8c2g4l-ISlq",
        "colab_type": "code",
        "colab": {}
      },
      "source": [
        "def smote(minority_x, N, k):\n",
        "  \"\"\"\n",
        "  T: Number of minority class samples\n",
        "  N: Amount of SMOTE % (old version)\n",
        "  N: Number of new syntetic data (new version consistent with RBBoost)\n",
        "  k: Number of nearest neighbors\n",
        "  \"\"\"\n",
        "  T = len(minority_x)\n",
        "  # if N < 100:\n",
        "  #   T = int((N/100)*T)\n",
        "  #   N = 100\n",
        "  # N = (int)(N/100)\n",
        "  numattrs = len(minority_x[0])\n",
        "  synthetic = []\n",
        "\n",
        "  #for n in range(T):\n",
        "  for n in range(N):\n",
        "    i = np.random.randint(0, len(minority_x)-1)\n",
        "    nnarray = get_nearest_neighbor(minority_x, minority_x[i], k)\n",
        "    populate(i, N, numattrs, minority_x, nnarray, synthetic, k, n) # n is index\n",
        "\n",
        "  return synthetic"
      ],
      "execution_count": 0,
      "outputs": []
    },
    {
      "cell_type": "code",
      "metadata": {
        "id": "v5WtXWCepf1E",
        "colab_type": "code",
        "colab": {}
      },
      "source": [
        "def get_nearest_neighbor(minority_x, x, k):\n",
        "  \"\"\"\n",
        "  x: data that we want to find its neighbor\n",
        "  \"\"\"\n",
        "\n",
        "  distances = []\n",
        "  nearest_neighbors_index = []\n",
        "\n",
        "  for i in range(len(minority_x)):\n",
        "    if minority_x[i][:] == x:\n",
        "      continue\n",
        "    \n",
        "    # euclidean distance\n",
        "    distance = np.sqrt(np.sum(np.square(np.array(x) - np.array(minority_x[i][:]))))\n",
        "    distances.append([distance, i])\n",
        "\n",
        "  distances = sorted(distances)\n",
        "\n",
        "  # return the k nearest neighbors of x\n",
        "  for i in range(k):\n",
        "    nearest_neighbors_index.append(distances[i][1])\n",
        "\n",
        "  return nearest_neighbors_index"
      ],
      "execution_count": 0,
      "outputs": []
    },
    {
      "cell_type": "code",
      "metadata": {
        "id": "1IpDIMgZsv1V",
        "colab_type": "code",
        "colab": {}
      },
      "source": [
        "def populate(i, N, numattrs, minority_x, nnarray, synthetic, k, new_index):\n",
        "\n",
        "  #new_index = 0\n",
        "  #while N != 0:\n",
        "  nn = np.random.randint(1, k) # booth low and high are inclusive\n",
        "  #This step chooses one of the k nearest neighbors of i\n",
        "\n",
        "  temp = []\n",
        "  for attr in range(numattrs):\n",
        "    dif = minority_x[nnarray[nn]][attr] - minority_x[i][attr]\n",
        "    gap = random.random()\n",
        "    temp.insert(attr, minority_x[i][attr] + gap * dif)\n",
        "\n",
        "  synthetic.insert(new_index, temp)\n",
        "    #new_index += 1\n",
        "    #N = N-1\n",
        "\n",
        "  return"
      ],
      "execution_count": 0,
      "outputs": []
    },
    {
      "cell_type": "code",
      "metadata": {
        "id": "zo9OsySgMqU6",
        "colab_type": "code",
        "outputId": "9b221ea5-2fd6-4f5c-dac0-ff4da11e51fc",
        "colab": {
          "base_uri": "https://localhost:8080/",
          "height": 139
        }
      },
      "source": [
        "# DEBUGGING: Testing SMOTE\n",
        "min_x = [X_train[0][i] for i in range(len(X_train[0])) if Y_train[0][i] == 0]\n",
        "print(\"The number of all train objects: \", len(X_train[0]))\n",
        "print(\"The number of minority class objects before SMOTE: \", len(min_x))\n",
        "\n",
        "# N = |Synthetic data| = |minority class objects| * 2\n",
        "X_syn = smote(min_x, N=len(min_x)*2, k=5) \n",
        "print(\"\\nThe number of synthetic objects created from minority class objects after SMOTE:\\n\", len(X_syn))\n",
        "\n",
        "# N = |Synthetic data| = 10\n",
        "X_syn = smote(min_x, N=10, k=5)\n",
        "print(\"The number of synthetic objects created from minority class objects after SMOTE:\\n\", len(X_syn))"
      ],
      "execution_count": 27,
      "outputs": [
        {
          "output_type": "stream",
          "text": [
            "The number of all train objects:  803\n",
            "The number of minority class objects before SMOTE:  79\n",
            "\n",
            "The number of synthetic objects created from minority class objects after SMOTE:\n",
            " 158\n",
            "The number of synthetic objects created from minority class objects after SMOTE:\n",
            " 10\n"
          ],
          "name": "stdout"
        }
      ]
    },
    {
      "cell_type": "markdown",
      "metadata": {
        "id": "OSBNQ8CaPuVi",
        "colab_type": "text"
      },
      "source": [
        "## SMOTEBOOST"
      ]
    },
    {
      "cell_type": "markdown",
      "metadata": {
        "id": "edIUEVmIuLQF",
        "colab_type": "text"
      },
      "source": [
        "SMOTEBoost algorithm combines the Synthetic Minority Oversampling Technique (SMOTE) and the standard boosting procedure. The standard boosting algorithm (Adaboost) treats both kinds of errors (FP and FN) in a\n",
        "similar fashion, and therefore sampling distributions in subsequent boosting iterations could have a larger composition of majority class cases.\n",
        "SMOTEBoost only SMOTE for the minority class examples in the distribution D at the iteration t. This has an implicit effect of increasing the sampling weights of minority class cases, as new examples are created in D. The synthetically created minority class cases are discarded after learning a classifier at iteration t. That is, they are not added to the original training set, and new examples are constructed in each iteration t, by sampling from D. The error-estimate after each boosting iteration is on the original training set.\n",
        "\n",
        "Utilizing a validation set to set the amount of SMOTE before the boosting iterations can be useful."
      ]
    },
    {
      "cell_type": "code",
      "metadata": {
        "id": "2SX9APrj3fER",
        "colab_type": "code",
        "colab": {}
      },
      "source": [
        "def SmoteBoost(X, Y, minority_class, n_estimators):\n",
        "  \"\"\"\n",
        "  minority_class: 0 or 1\n",
        "  n_estimators: Number of classifiers\n",
        "  \"\"\"\n",
        "\n",
        "  classifier_list = []\n",
        "  beta_list = []\n",
        "\n",
        "  D = np.ones(len(X), dtype=np.float64)\n",
        "  D[:] = 1. / len(X)\n",
        "\n",
        "  for T in range(n_estimators):\n",
        "    \n",
        "    minority_x = [X[i] for i in range(len(X)) if Y[i] == minority_class]\n",
        "    X_syn = smote(minority_x, N=len(minority_x)*2, k=5)\n",
        "    Y_syn = np.full(len(X_syn), fill_value=minority_class, dtype=np.int64)\n",
        "\n",
        "    D_syn = np.ones(len(X_syn), dtype=np.float64)\n",
        "    D_syn[:] = 1. / len(X)\n",
        "\n",
        "    new_X = np.vstack((X, X_syn))\n",
        "    new_Y = np.append(Y, Y_syn)\n",
        "\n",
        "    D = np.append(D[:len(X)], D_syn)\n",
        "    D /= sum(D)\n",
        "\n",
        "    decision_tree = DecisionTreeClassifier(max_depth=2)\n",
        "    decision_tree.fit(new_X, new_Y, D)\n",
        "    classifier_list.append(decision_tree)\n",
        "\n",
        "    h = decision_tree.predict_proba(X)\n",
        "\n",
        "    error = 0\n",
        "    for i in range(len(X)): # error-estimate on original data\n",
        "      # 1 - the probality of truth class + the probality of other class\n",
        "      error = error + (D[i] * (1 - h[i][Y[i]] + h[i][1-Y[i]]))\n",
        "        \n",
        "    beta = error / (1 - error)\n",
        "    beta_list.append(beta)\n",
        "    \n",
        "    for i in range(len(X)):\n",
        "      # (1 - the probality of other class + the probality of truth class) * 1/2\n",
        "      w = (1 - h[i][1-Y[i]] + h[i][Y[i]]) / 2\n",
        "\n",
        "      D[i] = D[i] * pow(beta, w)\n",
        "      \n",
        "    D /= sum(D)\n",
        "    \n",
        "  return classifier_list, beta_list\n"
      ],
      "execution_count": 0,
      "outputs": []
    },
    {
      "cell_type": "code",
      "metadata": {
        "id": "GALw9455UK09",
        "colab_type": "code",
        "colab": {}
      },
      "source": [
        "def SmoteBoost_predict(classifier_list, beta_list, X_test):\n",
        "  \n",
        "  support = np.zeros((len(X_test),2),dtype=np.float)\n",
        "  \n",
        "  for t in range(len(classifier_list)):\n",
        "    h = classifier_list[t].predict_proba(X_test)\n",
        "    support += np.log((1/beta_list[t])) * h\n",
        "    \n",
        "  predict_label = np.argmax(support, axis = 1)\n",
        "      \n",
        "  return predict_label"
      ],
      "execution_count": 0,
      "outputs": []
    },
    {
      "cell_type": "code",
      "metadata": {
        "id": "S1I4BL2Ux5zl",
        "colab_type": "code",
        "colab": {}
      },
      "source": [
        "def SmoteBoost_support(classifier_list, beta_list, X_test):\n",
        "  \n",
        "  support = np.zeros((len(X_test),2),dtype=np.float)\n",
        "  \n",
        "  for t in range(len(classifier_list)):\n",
        "    h = classifier_list[t].predict_proba(X_test)\n",
        "    support += np.log((1/beta_list[t])) * h\n",
        "\n",
        "  probs = support.T / np.sum(support,axis = 1)\n",
        "  \n",
        "  return probs.T"
      ],
      "execution_count": 0,
      "outputs": []
    },
    {
      "cell_type": "code",
      "metadata": {
        "id": "T-ECA8JAg7cp",
        "colab_type": "code",
        "colab": {}
      },
      "source": [
        "def run_SmoteBoost(n_estimators):\n",
        "  acc_smoteBoost = precision_smoteBoost = recall_smoteBoost = 0\n",
        "\n",
        "  for i in range(kFold):\n",
        "    classifiers, betas = SmoteBoost(X_train[i], Y_train[i], minority_class=0, n_estimators = n_estimators)\n",
        "    y_pred = SmoteBoost_predict(classifiers, betas, X_test[i])\n",
        "\n",
        "    acc_smoteBoost += accuracy_score(Y_test[i], y_pred)\n",
        "    precision_smoteBoost += precision_score(Y_test[i], y_pred, average='macro', zero_division=0)\n",
        "    recall_smoteBoost += recall_score(Y_test[i], y_pred, average='macro', zero_division=0)\n",
        "    \n",
        "  acc_smoteBoost /= kFold\n",
        "  precision_smoteBoost /= kFold\n",
        "  recall_smoteBoost /= kFold\n",
        "\n",
        "  print(\"\\nL = {}: \".format(n_estimators))\n",
        "  print(\"SmoteBoost L{} Accuracy: {:.2f}\".format(n_estimators, acc_smoteBoost))\n",
        "  print(\"SmoteBoost L{} Precision: {:.2f}\".format(n_estimators, precision_smoteBoost))\n",
        "  print(\"SmoteBoost L{} Recall: {:.2f}\".format(n_estimators, recall_smoteBoost))\n",
        "\n",
        "  #ROC Curve\n",
        "  classifiers, betas = SmoteBoost(X_train_all, Y_train_all, minority_class=0, n_estimators = n_estimators)\n",
        "  support = SmoteBoost_support(classifiers, betas, X_test_all)\n",
        "  \n",
        "  fpr, tpr, thresholds = roc_curve(Y_test_all, support[:,0], pos_label=0) # 0 is minority class label\n",
        "  plt.title('ROC Positive(0) Class')\n",
        "  plt.xlabel('FPR')\n",
        "  plt.ylabel('TPR')\n",
        "  plt.plot(fpr, tpr)\n",
        "  plt.show()\n",
        "\n",
        "  return acc_smoteBoost, precision_smoteBoost, recall_smoteBoost"
      ],
      "execution_count": 0,
      "outputs": []
    },
    {
      "cell_type": "code",
      "metadata": {
        "id": "vy5mOyPuBW7O",
        "colab_type": "code",
        "outputId": "d4b691b4-b9ad-40e0-b327-62a14fb99d59",
        "colab": {
          "base_uri": "https://localhost:8080/",
          "height": 1000
        }
      },
      "source": [
        "acc_smoteBoost_L10, precision_smoteBoost_L10, recall_smoteBoost_L10 = run_SmoteBoost(n_estimators=10)\n",
        "acc_smoteBoost_L50, precision_smoteBoost_L50, recall_smoteBoost_L50 = run_SmoteBoost(n_estimators=50)\n",
        "acc_smoteBoost_L100, precision_smoteBoost_L100, recall_smoteBoost_L100 = run_SmoteBoost(n_estimators=100)"
      ],
      "execution_count": 45,
      "outputs": [
        {
          "output_type": "stream",
          "text": [
            "\n",
            "L = 10: \n",
            "SmoteBoost L10 Accuracy: 0.92\n",
            "SmoteBoost L10 Precision: 0.78\n",
            "SmoteBoost L10 Recall: 0.79\n"
          ],
          "name": "stdout"
        },
        {
          "output_type": "display_data",
          "data": {
            "image/png": "[encoded data removed]",
            "text/plain": [
              "<Figure size 432x288 with 1 Axes>"
            ]
          },
          "metadata": {
            "tags": []
          }
        },
        {
          "output_type": "stream",
          "text": [
            "\n",
            "L = 50: \n",
            "SmoteBoost L50 Accuracy: 0.92\n",
            "SmoteBoost L50 Precision: 0.78\n",
            "SmoteBoost L50 Recall: 0.79\n"
          ],
          "name": "stdout"
        },
        {
          "output_type": "display_data",
          "data": {
            "image/png": "[encoded data removed]",
            "text/plain": [
              "<Figure size 432x288 with 1 Axes>"
            ]
          },
          "metadata": {
            "tags": []
          }
        },
        {
          "output_type": "stream",
          "text": [
            "\n",
            "L = 100: \n",
            "SmoteBoost L100 Accuracy: 0.92\n",
            "SmoteBoost L100 Precision: 0.78\n",
            "SmoteBoost L100 Recall: 0.79\n"
          ],
          "name": "stdout"
        },
        {
          "output_type": "display_data",
          "data": {
            "image/png": "[encoded data removed]",
            "text/plain": [
              "<Figure size 432x288 with 1 Axes>"
            ]
          },
          "metadata": {
            "tags": []
          }
        }
      ]
    },
    {
      "cell_type": "markdown",
      "metadata": {
        "id": "jTLfsLN9--h4",
        "colab_type": "text"
      },
      "source": [
        "## Ada-Boost M2"
      ]
    },
    {
      "cell_type": "markdown",
      "metadata": {
        "id": "mJ_ly8GP2YIX",
        "colab_type": "text"
      },
      "source": [
        "In the AdaBoost-M2  a more sophisticated error is defined that is called pseudo-loss. Unlike ordinary error in M1 which is computed with respect to a distribution over examples, pseudo-loss is computed with respect to a distribution over the set of all pairs of examples and incorrect labels.\n",
        "More formally, a mislabel is a pair (i,y) where i is the index of a training example and y is an incorrect label\n",
        "associated with example i. Let B be the set of all mislabels: $$B = \\left\\{(i,y) : i \\in \\left\\{1,...,m\\right\\}, y\\neq y_i\\right\\}$$\n",
        "On each iteration t of boosting, AdaBoost.M2 supplies the weak learner (Decision Tree with max_depth=2 here) with a mislabel distribution D.\n",
        "The weak learner computes a hypothesis h in [0,1]. It can be verified that the pseudo-loss is minimized when correct labels $y_i$ are assigned the value\n",
        "1 and incorrect labels $y \\neq y_i$ assigned the value 0.\n",
        "\n",
        "$$\\epsilon = \\frac{1}{2} \\sum_{(i,y)\\in B} D_t(i,y) (1 - h_t(x_i, y_i) + h_t(x_i, y))$$\n",
        "\n"
      ]
    },
    {
      "cell_type": "code",
      "metadata": {
        "id": "8Rwb-wMtAO5C",
        "colab_type": "code",
        "colab": {}
      },
      "source": [
        "def AdaBoostM2(X, Y, n_estimators):\n",
        "  \"\"\"\n",
        "  n_estimators: Number of classifiers\n",
        "  \"\"\"\n",
        "\n",
        "  classifier_list = []\n",
        "  beta_list = []\n",
        "\n",
        "  D = np.ones(len(X), dtype=np.float64)\n",
        "  D[:] = 1. / len(X) \n",
        "  \"\"\"\n",
        "  D must be initialized with 1/|B|\n",
        "  while in classification problems with 2 classes |B| = |m| = len(X)\n",
        "  \"\"\"\n",
        "\n",
        "  for T in range(n_estimators):\n",
        "    \n",
        "    decision_tree = DecisionTreeClassifier(max_depth=5)\n",
        "    decision_tree.fit(X, Y, D)\n",
        "    classifier_list.append(decision_tree)\n",
        "\n",
        "    h = decision_tree.predict_proba(X)\n",
        "\n",
        "    error = 0\n",
        "    for i in range(len(X)):\n",
        "        # 1 - the probality of truth class + the probality of other class\n",
        "      error = error + (D[i] * (1 - h[i][Y[i]] + h[i][1-Y[i]]))\n",
        "    \n",
        "    error /= 2.\n",
        "    beta = error / (1 - error)\n",
        "    beta_list.append(beta)\n",
        "    \n",
        "    for i in range(len(X)):\n",
        "      # (1 + the probality of truth class - the probality of other class) * 1/2\n",
        "      w = (1 + h[i][Y[i]] - h[i][1-Y[i]]) / 2\n",
        "\n",
        "      D[i] = D[i] * pow(beta, w)\n",
        "      \n",
        "    D /= sum(D)\n",
        "    \n",
        "  return classifier_list, beta_list"
      ],
      "execution_count": 0,
      "outputs": []
    },
    {
      "cell_type": "code",
      "metadata": {
        "id": "iMRQnRWIidoI",
        "colab_type": "code",
        "colab": {}
      },
      "source": [
        "def AdaBoostM2_predict(classifier_list, beta_list, X_test):\n",
        "  \n",
        "  support = np.zeros((len(X_test),2),dtype=np.float)\n",
        "  \n",
        "  for t in range(len(classifier_list)):\n",
        "    h = classifier_list[t].predict_proba(X_test)\n",
        "    support += np.log((1/beta_list[t])) * h\n",
        "    \n",
        "  predict_label = np.argmax(support, axis = 1)\n",
        "      \n",
        "  return predict_label"
      ],
      "execution_count": 0,
      "outputs": []
    },
    {
      "cell_type": "code",
      "metadata": {
        "id": "ZnBBaEHyzT8o",
        "colab_type": "code",
        "colab": {}
      },
      "source": [
        "def AdaBoostM2_support(classifier_list, beta_list, X_test):\n",
        "  \n",
        "  support = np.zeros((len(X_test),2),dtype=np.float)\n",
        "  \n",
        "  for t in range(len(classifier_list)):\n",
        "    h = classifier_list[t].predict_proba(X_test)\n",
        "    support += np.log((1/beta_list[t])) * h\n",
        "\n",
        "  probs = support.T / np.sum(support,axis = 1)\n",
        "  \n",
        "  return probs.T"
      ],
      "execution_count": 0,
      "outputs": []
    },
    {
      "cell_type": "code",
      "metadata": {
        "id": "FdllkKtEMhrH",
        "colab_type": "code",
        "colab": {}
      },
      "source": [
        "def run_AdaBoostM2(n_estimators):\n",
        "  acc_adaBoostM2 = precision_adaBoostM2 = recall_adaBoostM2 = 0\n",
        "\n",
        "  for i in range(kFold):\n",
        "    classifiers, betas = AdaBoostM2(X_train[i], Y_train[i], n_estimators = n_estimators)\n",
        "    y_pred = AdaBoostM2_predict(classifiers, betas, X_test[i])\n",
        "\n",
        "    acc_adaBoostM2 += accuracy_score(Y_test[i], y_pred)\n",
        "    precision_adaBoostM2 += precision_score(Y_test[i], y_pred, average='macro', zero_division=0)\n",
        "    recall_adaBoostM2 += recall_score(Y_test[i], y_pred, average='macro', zero_division=0)\n",
        "\n",
        "  acc_adaBoostM2 /= kFold\n",
        "  precision_adaBoostM2 /= kFold\n",
        "  recall_adaBoostM2 /= kFold\n",
        "\n",
        "  print(\"\\nL = {}: \".format(n_estimators))\n",
        "  print(\"AdaBoost-M2 L{} Accuracy: {:.2f}\".format(n_estimators, acc_adaBoostM2))\n",
        "  print(\"AdaBoost-M2 L{} Precision: {:.2f}\".format(n_estimators, precision_adaBoostM2))\n",
        "  print(\"AdaBoost-M2 L{} Recall: {:.2f}\".format(n_estimators, recall_adaBoostM2))\n",
        "\n",
        "  # ROC Curve\n",
        "  classifiers, betas = AdaBoostM2(X_train_all, Y_train_all, n_estimators = n_estimators)\n",
        "  predict = AdaBoostM2_predict(classifiers, betas, X_test_all)\n",
        "  support = AdaBoostM2_support(classifiers, betas, X_test_all)\n",
        "\n",
        "  acc_all = accuracy_score(Y_test_all, predict)\n",
        "  precision_all = precision_score(Y_test_all, predict, average='macro', zero_division=0)\n",
        "  recall_all = recall_score(Y_test_all, predict, average='macro', zero_division=0)\n",
        "  \n",
        "  fpr, tpr, thresholds = roc_curve(Y_test_all, support[:,0], pos_label=0) # 0 is minority class label\n",
        "  plt.title('ROC Positive(0) Class')\n",
        "  plt.xlabel('FPR')\n",
        "  plt.ylabel('TPR')\n",
        "  plt.plot(fpr, tpr)\n",
        "  plt.show()\n",
        "\n",
        "  return acc_adaBoostM2, precision_adaBoostM2, recall_adaBoostM2"
      ],
      "execution_count": 0,
      "outputs": []
    },
    {
      "cell_type": "code",
      "metadata": {
        "id": "d322dQpjMj76",
        "colab_type": "code",
        "outputId": "0ef7864e-788d-4f75-c529-e066c8aab281",
        "colab": {
          "base_uri": "https://localhost:8080/",
          "height": 1000
        }
      },
      "source": [
        "acc_adaBoostM2_L10, precision_adaBoostM2_L10, recall_adaBoostM2_L10 = run_AdaBoostM2(n_estimators=10)\n",
        "acc_adaBoostM2_L50, precision_adaBoostM2_L50, recall_adaBoostM2_L50 = run_AdaBoostM2(n_estimators=50)\n",
        "acc_adaBoostM2_L100, precision_adaBoostM2_L100, recall_adaBoostM2_L100 = run_AdaBoostM2(n_estimators=100)"
      ],
      "execution_count": 50,
      "outputs": [
        {
          "output_type": "stream",
          "text": [
            "\n",
            "L = 10: \n",
            "AdaBoost-M2 L10 Accuracy: 0.93\n",
            "AdaBoost-M2 L10 Precision: 0.83\n",
            "AdaBoost-M2 L10 Recall: 0.73\n"
          ],
          "name": "stdout"
        },
        {
          "output_type": "display_data",
          "data": {
            "image/png": "[encoded data removed]",
            "text/plain": [
              "<Figure size 432x288 with 1 Axes>"
            ]
          },
          "metadata": {
            "tags": []
          }
        },
        {
          "output_type": "stream",
          "text": [
            "\n",
            "L = 50: \n",
            "AdaBoost-M2 L50 Accuracy: 0.93\n",
            "AdaBoost-M2 L50 Precision: 0.85\n",
            "AdaBoost-M2 L50 Recall: 0.72\n"
          ],
          "name": "stdout"
        },
        {
          "output_type": "display_data",
          "data": {
            "image/png": "[encoded data removed]",
            "text/plain": [
              "<Figure size 432x288 with 1 Axes>"
            ]
          },
          "metadata": {
            "tags": []
          }
        },
        {
          "output_type": "stream",
          "text": [
            "\n",
            "L = 100: \n",
            "AdaBoost-M2 L100 Accuracy: 0.93\n",
            "AdaBoost-M2 L100 Precision: 0.86\n",
            "AdaBoost-M2 L100 Recall: 0.72\n"
          ],
          "name": "stdout"
        },
        {
          "output_type": "display_data",
          "data": {
            "image/png": "[encoded data removed]",
            "text/plain": [
              "<Figure size 432x288 with 1 Axes>"
            ]
          },
          "metadata": {
            "tags": []
          }
        }
      ]
    },
    {
      "cell_type": "markdown",
      "metadata": {
        "id": "plTxooPeoewR",
        "colab_type": "text"
      },
      "source": [
        "## Random Balancex"
      ]
    },
    {
      "cell_type": "markdown",
      "metadata": {
        "id": "ZVJqtx5CoxIP",
        "colab_type": "text"
      },
      "source": [
        "This technique can be used within an ensemble to increase the diversity and deal with imbalances.\n",
        "Given a data set, a different data set of the same size is obtained for each member of the ensemble where the imbalance ratio is chosen randomly. Classifiers 1; 2 . . . ; T are trained with variants of this data set where the ratio between classes varies randomly. SMOTE and Random Undersampling (resampling without replacement) are used to respectively increase or reduce the size of the classes to match the desired size."
      ]
    },
    {
      "cell_type": "code",
      "metadata": {
        "id": "nrsMWD8ZoeR3",
        "colab_type": "code",
        "colab": {}
      },
      "source": [
        "def Random_Balancex(X, Y, minority_class):\n",
        "  \n",
        "  minority_x = [X[i] for i in range(len(X)) if Y[i] == minority_class]\n",
        "  majority_x = [X[i] for i in range(len(X)) if Y[i] != minority_class]\n",
        "  \n",
        "  total_size = len(X)\n",
        "  minority_size = len(minority_x)\n",
        "  majority_size = len(majority_x)\n",
        "  \n",
        "  # Resulting classes will have at least 2 instances\n",
        "  new_majority_size = np.random.randint(2, total_size - 2)\n",
        "  new_minority_size = total_size - new_majority_size\n",
        "\n",
        "  new_X = []\n",
        "  new_Y = []\n",
        "\n",
        "  if new_majority_size < majority_size:\n",
        "    new_X.extend(minority_x)\n",
        "    new_Y.extend([minority_class] * minority_size)\n",
        "\n",
        "    new_X.extend(random.sample(majority_x, new_majority_size))\n",
        "    new_Y.extend([1-minority_class] * new_majority_size)\n",
        "\n",
        "    new_X.extend(smote(minority_x, N=new_minority_size - minority_size, k=5))\n",
        "    new_Y.extend([minority_class] * (new_minority_size - minority_size))\n",
        "\n",
        "  else:\n",
        "    new_X.extend(majority_x)\n",
        "    new_Y.extend([1-minority_class] * majority_size)\n",
        "\n",
        "    new_X.extend(random.sample(minority_x, new_minority_size))\n",
        "    new_Y.extend([minority_class] * new_minority_size)\n",
        "\n",
        "    new_X.extend(smote(majority_x, new_majority_size - majority_size, k=5))\n",
        "    new_Y.extend([1-minority_class] * (new_majority_size - majority_size))\n",
        "  \n",
        "  return new_X, new_Y"
      ],
      "execution_count": 0,
      "outputs": []
    },
    {
      "cell_type": "markdown",
      "metadata": {
        "id": "VoUFze0OnqbN",
        "colab_type": "text"
      },
      "source": [
        "## RB-Boost\n",
        "Binary Classification"
      ]
    },
    {
      "cell_type": "markdown",
      "metadata": {
        "id": "dUtGQ_kjuGV2",
        "colab_type": "text"
      },
      "source": [
        "In RB-Boost, for each of the iteration T a data set $\\acute{S}_t$ is generated according to the Random Balancex function. Distribution $\\acute{D}_t$  is updated, maintaining for each instance of the original data set its associated weight and assigning a uniform weight $\\frac{1}{m}$ to the synthetic examples. Then a weak learning algorithm (Decision Tree with max_depth=3 here) is trained using $\\acute{S}_t$  and $\\acute{D}_t$, this classifier will give a probability between 0 and 1 to each class. The pseudo-loss $\\acute{\\epsilon}_t$  of\n",
        "the weak classifier $h_t$ is computed. The distribution D is updated to make the weights associated with wrong classifications higher than the weights given to correct classifications on the set of our real examples."
      ]
    },
    {
      "cell_type": "code",
      "metadata": {
        "id": "OK075UEMoazy",
        "colab_type": "code",
        "colab": {}
      },
      "source": [
        "def RBBoost(X, Y, minority_class, n_estimators):\n",
        "  \"\"\"\n",
        "  minority_class: 0 or 1\n",
        "  n_estimators: Number of classifiers\n",
        "  \"\"\"\n",
        "\n",
        "  classifier_list = []\n",
        "  beta_list = []\n",
        "\n",
        "  D = np.ones(len(X), dtype=np.float64)\n",
        "  D[:] = 1. / len(X)\n",
        "\n",
        "  for T in range(n_estimators):\n",
        "    \n",
        "    new_X, new_Y = Random_Balancex(X, Y, minority_class)\n",
        "    \n",
        "    new_D = [0] * len(X)\n",
        "    for i in range(len(X)):\n",
        "      \"\"\" If the example is from the sample it maintains its weight, if the\n",
        "          example is artificial it has the initial weight.\"\"\"\n",
        "\n",
        "      if new_X[i] in X: \n",
        "        new_D[i] = D[X.index(new_X[i])]\n",
        "      else:\n",
        "        new_D[i] = 1. / len(X)\n",
        "\n",
        "    new_D /= sum(new_D)\n",
        "    \n",
        "    decision_tree = DecisionTreeClassifier(max_depth=2)\n",
        "    decision_tree.fit(new_X, new_Y, new_D)\n",
        "  \n",
        "    h = decision_tree.predict_proba(X)\n",
        "\n",
        "    error = 0\n",
        "    for i in range(len(X)):\n",
        "      # 1 - the probality of truth class + the probality of other class\n",
        "      error = error + (D[i] * (1 - h[i][Y[i]] + h[i][1-Y[i]]))\n",
        "\n",
        "    beta = error / (1 - error)\n",
        "    beta_list.append(beta)\n",
        "    classifier_list.append(decision_tree)\n",
        "    \n",
        "    for i in range(len(X)):\n",
        "      # (1 + the probality of truth class - the probality of other class) * 1/2\n",
        "      w = (1 + h[i][Y[i]] - h[i][1-Y[i]]) / 2 \n",
        "      D[i] = D[i] * pow(beta, w)\n",
        "      \n",
        "    D /= sum(D)\n",
        "    \n",
        "  return classifier_list, beta_list"
      ],
      "execution_count": 0,
      "outputs": []
    },
    {
      "cell_type": "code",
      "metadata": {
        "id": "CFnWymOT_0hw",
        "colab_type": "code",
        "colab": {}
      },
      "source": [
        "def RBBoost_predict(classifier_list, beta_list, X_test):\n",
        "  \n",
        "  support = np.zeros((len(X_test),2),dtype=np.float)\n",
        "  \n",
        "  for t in range(len(classifier_list)):\n",
        "    h = classifier_list[t].predict_proba(X_test)\n",
        "    support += np.log((1/beta_list[t]))*h\n",
        "    \n",
        "  predict_label = np.argmax(support, axis = 1)\n",
        "      \n",
        "  return predict_label"
      ],
      "execution_count": 0,
      "outputs": []
    },
    {
      "cell_type": "code",
      "metadata": {
        "id": "sha8GGN6zZgv",
        "colab_type": "code",
        "colab": {}
      },
      "source": [
        "def RBBoost_support(classifier_list, beta_list, X_test):\n",
        "  \n",
        "  support = np.zeros((len(X_test),2),dtype=np.float)\n",
        "  \n",
        "  for t in range(len(classifier_list)):\n",
        "    h = classifier_list[t].predict_proba(X_test)\n",
        "    support += np.log((1/beta_list[t])) * h\n",
        "\n",
        "  probs = support.T / np.sum(support,axis = 1)\n",
        "  \n",
        "  return probs.T"
      ],
      "execution_count": 0,
      "outputs": []
    },
    {
      "cell_type": "code",
      "metadata": {
        "id": "lnJ9QXCm_-V8",
        "colab_type": "code",
        "colab": {}
      },
      "source": [
        "def run_RBBoost(n_estimators):\n",
        "  acc_rbBoost = precision_rbBoost = recall_rbBoost = 0\n",
        "\n",
        "  for i in range(kFold):\n",
        "    classifiers, betas = RBBoost(X_train[i], Y_train[i], minority_class=0, n_estimators = n_estimators)\n",
        "    y_pred = RBBoost_predict(classifiers, betas, X_test[i])\n",
        "\n",
        "    acc_rbBoost += accuracy_score(Y_test[i], y_pred)\n",
        "    precision_rbBoost += precision_score(Y_test[i], y_pred, average='macro', zero_division=0)\n",
        "    recall_rbBoost += recall_score(Y_test[i], y_pred, average='macro', zero_division=0)\n",
        "\n",
        "  acc_rbBoost /= kFold\n",
        "  precision_rbBoost /= kFold\n",
        "  recall_rbBoost /= kFold\n",
        "\n",
        "  print(\"\\nL = {}: \".format(n_estimators))\n",
        "  print(\"RBBoost L{} Accuracy: {:.2f}\".format(n_estimators, acc_rbBoost))\n",
        "  print(\"RBBoost L{} Precision: {:.2f}\".format(n_estimators, precision_rbBoost))\n",
        "  print(\"RBBoost L{} Recall: {:.2f}\".format(n_estimators, recall_rbBoost))\n",
        "\n",
        "  # ROC Curve\n",
        "  classifiers, betas = RBBoost(X_train_all, Y_train_all, minority_class=0, n_estimators = n_estimators)\n",
        "  support = RBBoost_support(classifiers, betas, X_test_all)\n",
        "  \n",
        "  fpr, tpr, thresholds = roc_curve(Y_test_all, support[:,0], pos_label=0) # 0 is minority class label\n",
        "  plt.title('ROC Positive(0) Class')\n",
        "  plt.xlabel('FPR')\n",
        "  plt.ylabel('TPR')\n",
        "  plt.plot(fpr, tpr)\n",
        "  plt.show()\n",
        "\n",
        "  return acc_rbBoost, precision_rbBoost, recall_rbBoost"
      ],
      "execution_count": 0,
      "outputs": []
    },
    {
      "cell_type": "code",
      "metadata": {
        "id": "NzfeI7JW-eHq",
        "colab_type": "code",
        "outputId": "0b556473-e1a4-4a5a-c309-85d98fad9a4c",
        "colab": {
          "base_uri": "https://localhost:8080/",
          "height": 1000
        }
      },
      "source": [
        "acc_rbBoost_L10, precision_rbBoost_L10, recall_rbBoost_L10 = run_RBBoost(n_estimators=10)\n",
        "acc_rbBoost_L50, precision_rbBoost_L50, recall_rbBoost_L50 = run_RBBoost(n_estimators=50)\n",
        "acc_rbBoost_L100, precision_rbBoost_L100, recall_rbBoost_L100 = run_RBBoost(n_estimators=100)"
      ],
      "execution_count": 58,
      "outputs": [
        {
          "output_type": "stream",
          "text": [
            "\n",
            "L = 10: \n",
            "RBBoost L10 Accuracy: 0.92\n",
            "RBBoost L10 Precision: 0.80\n",
            "RBBoost L10 Recall: 0.68\n"
          ],
          "name": "stdout"
        },
        {
          "output_type": "display_data",
          "data": {
            "image/png": "[encoded data removed]",
            "text/plain": [
              "<Figure size 432x288 with 1 Axes>"
            ]
          },
          "metadata": {
            "tags": []
          }
        },
        {
          "output_type": "stream",
          "text": [
            "\n",
            "L = 50: \n",
            "RBBoost L50 Accuracy: 0.92\n",
            "RBBoost L50 Precision: 0.82\n",
            "RBBoost L50 Recall: 0.72\n"
          ],
          "name": "stdout"
        },
        {
          "output_type": "display_data",
          "data": {
            "image/png": "[encoded data removed]",
            "text/plain": [
              "<Figure size 432x288 with 1 Axes>"
            ]
          },
          "metadata": {
            "tags": []
          }
        },
        {
          "output_type": "stream",
          "text": [
            "\n",
            "L = 100: \n",
            "RBBoost L100 Accuracy: 0.93\n",
            "RBBoost L100 Precision: 0.84\n",
            "RBBoost L100 Recall: 0.74\n"
          ],
          "name": "stdout"
        },
        {
          "output_type": "display_data",
          "data": {
            "image/png": "[encoded data removed]",
            "text/plain": [
              "<Figure size 432x288 with 1 Axes>"
            ]
          },
          "metadata": {
            "tags": []
          }
        }
      ]
    },
    {
      "cell_type": "markdown",
      "metadata": {
        "id": "5gykh2yXPRLG",
        "colab_type": "text"
      },
      "source": [
        "## RUSBoost\n",
        "Binary Classification"
      ]
    },
    {
      "cell_type": "markdown",
      "metadata": {
        "id": "dwourGDpud0g",
        "colab_type": "text"
      },
      "source": [
        "RUSBoost [5], as SMOTEBoost[2], is also an AdaBoost-M2 modification, but in this case instances of the majority class are removed using random undersampling in each iteration. RUS simply removes\n",
        "examples from the majority class at random until a desired class\n",
        "distribution is achieved. \n",
        "\n",
        "The application of SMOTE at this point has two drawbacks that RUSBoost is designed to overcome. First, it increases the complexity of the algorithm. SMOTE must find the k nearest neighbors of the minority class examples and extrapolate between them to make new examples. RUS, on the other hand, simply deletes the majority class examples at random. For example, if the desired class ratio is 25 : 75, then the majority class examples are randomly removed until the numbers of majority and minority \u0002class examples are equal.\n",
        "Second, since SMOTE is an oversampling technique, it results in longer model training times. On the other hand, RUS results in smaller training data sets and, therefore, shorter model training times."
      ]
    },
    {
      "cell_type": "code",
      "metadata": {
        "id": "X0EuCj6wy60X",
        "colab_type": "code",
        "colab": {}
      },
      "source": [
        "def RUSBoost(X, Y, minority_class, n_estimators):\n",
        "  \"\"\"\n",
        "  minority_class: 0 or 1\n",
        "  n_estimators: Number of classifiers\n",
        "  \"\"\"\n",
        "\n",
        "  classifier_list = []\n",
        "  alpha_list = []\n",
        "\n",
        "  D = np.ones(len(X))\n",
        "  D[:] = 1. / len(X)\n",
        "\n",
        "  for T in range(n_estimators):\n",
        "    \n",
        "    minority_x = [X[i] for i in range(len(X)) if Y[i] == minority_class]\n",
        "    majority_x = [X[i] for i in range(len(X)) if Y[i] != minority_class]\n",
        "\n",
        "    minority_D = [D[i] for i in range(len(D)) if Y[i] == minority_class]\n",
        "    majority_D = [D[i] for i in range(len(D)) if Y[i] != minority_class]\n",
        "\n",
        "    total_size = len(X)\n",
        "    minority_size = len(minority_x)\n",
        "    majority_size = len(majority_x)\n",
        "\n",
        "    new_X = []\n",
        "    new_Y = []\n",
        "    new_D = []\n",
        "\n",
        "    new_X.extend(minority_x)\n",
        "    new_D.extend(minority_D)\n",
        "    new_Y.extend([minority_class] * minority_size)\n",
        "\n",
        "    XD = list(zip(majority_x, majority_D))\n",
        "    maj_selected = random.sample(XD, minority_size*3) # min:25% - maj:75%\n",
        "    new_X.extend( [i[0] for i in maj_selected] ) \n",
        "    new_D.extend( [i[1] for i in maj_selected] ) \n",
        "    new_Y.extend([1-minority_class] * minority_size*3)\n",
        "\n",
        "    new_D /= sum(new_D)\n",
        "\n",
        "    decision_tree = DecisionTreeClassifier(max_depth=2)\n",
        "    decision_tree.fit(new_X, new_Y, new_D)\n",
        "    classifier_list.append(decision_tree)\n",
        "\n",
        "    predict = decision_tree.predict(X)\n",
        "    h = decision_tree.predict_proba(X)\n",
        "\n",
        "    error = 0\n",
        "    for i in range(len(X)): # use Y label: update D for all objects\n",
        "      # 1 - the probality of truth class + the probality of other class\n",
        "      error = error + (D[i] * (1 - h[i][Y[i]] + h[i][1-Y[i]]))\n",
        "        \n",
        "    alpha = error / (1 - error)\n",
        "    alpha_list.append(alpha)\n",
        "    \n",
        "    for i in range(len(X)):\n",
        "      # (1 + the probality of truth class - the probality of other class) * 1/2\n",
        "      w = (1 + h[i][Y[i]] - h[i][1-Y[i]]) / 2\n",
        "\n",
        "      D[i] = D[i] * pow(alpha, w)\n",
        "      \n",
        "    D /= sum(D)\n",
        "\n",
        "  return classifier_list, alpha_list"
      ],
      "execution_count": 0,
      "outputs": []
    },
    {
      "cell_type": "code",
      "metadata": {
        "id": "_lfC_lB5Ky6K",
        "colab_type": "code",
        "colab": {}
      },
      "source": [
        "def RUSBoost_predict(classifier_list, alpha_list, X_test):\n",
        "  \n",
        "  support = np.zeros((len(X_test),2),dtype=np.float)\n",
        "  \n",
        "  for t in range(len(classifier_list)):\n",
        "    h = classifier_list[t].predict_proba(X_test)\n",
        "    support += np.log((1/alpha_list[t]))*h\n",
        "    \n",
        "  predict_label = np.argmax(support, axis = 1)\n",
        "      \n",
        "  return predict_label"
      ],
      "execution_count": 0,
      "outputs": []
    },
    {
      "cell_type": "code",
      "metadata": {
        "id": "_lPd__JwznYe",
        "colab_type": "code",
        "colab": {}
      },
      "source": [
        "def RUSBoost_support(classifier_list, alpha_list, X_test):\n",
        "  \n",
        "  support = np.zeros((len(X_test),2),dtype=np.float)\n",
        "  \n",
        "  for t in range(len(classifier_list)):\n",
        "    h = classifier_list[t].predict_proba(X_test)\n",
        "    support += np.log((1/alpha_list[t])) * h\n",
        "\n",
        "  probs = support.T / np.sum(support,axis = 1)\n",
        "  \n",
        "  return probs.T"
      ],
      "execution_count": 0,
      "outputs": []
    },
    {
      "cell_type": "code",
      "metadata": {
        "id": "3E91HPWYLVg1",
        "colab_type": "code",
        "colab": {}
      },
      "source": [
        "def run_RUSBoost(n_estimators):\n",
        "  acc_rusBoost = precision_rusBoost = recall_rusBoost = 0\n",
        "\n",
        "  for i in range(kFold):\n",
        "    classifiers, alphas = RUSBoost(X_train[i], Y_train[i], minority_class=0, n_estimators = n_estimators)\n",
        "    y_pred = RUSBoost_predict(classifiers, alphas, X_test[i])\n",
        "\n",
        "    acc_rusBoost += accuracy_score(Y_test[i], y_pred)\n",
        "    precision_rusBoost += precision_score(Y_test[i], y_pred, average='macro', zero_division=0)\n",
        "    recall_rusBoost += recall_score(Y_test[i], y_pred, average='macro', zero_division=0)\n",
        "\n",
        "  acc_rusBoost /= kFold\n",
        "  precision_rusBoost /= kFold\n",
        "  recall_rusBoost /= kFold\n",
        "\n",
        "  print(\"\\nL = {}: \".format(n_estimators))\n",
        "  print(\"RUSBoost L{} Accuracy: {:.2f}\".format(n_estimators, acc_rusBoost))\n",
        "  print(\"RUSBoost L{} Precision: {:.2f}\".format(n_estimators, precision_rusBoost))\n",
        "  print(\"RUSBoost L{} Recall: {:.2f}\".format(n_estimators, recall_rusBoost))\n",
        "\n",
        "  # ROC Curve\n",
        "  classifiers, alphas = RUSBoost(X_train_all, Y_train_all, minority_class=0, n_estimators = n_estimators)\n",
        "  support = RUSBoost_support(classifiers, alphas, X_test_all)\n",
        "  \n",
        "  fpr, tpr, thresholds = roc_curve(Y_test_all, support[:,0], pos_label=0) # 0 is minority class label\n",
        "  plt.title('ROC Positive(0) Class')\n",
        "  plt.xlabel('FPR')\n",
        "  plt.ylabel('TPR')\n",
        "  plt.plot(fpr, tpr)\n",
        "  plt.show()\n",
        "\n",
        "  return acc_rusBoost, precision_rusBoost, recall_rusBoost"
      ],
      "execution_count": 0,
      "outputs": []
    },
    {
      "cell_type": "code",
      "metadata": {
        "id": "V4X4uKv7LXeX",
        "colab_type": "code",
        "outputId": "592d732e-952e-48e2-95ad-8b4dac603504",
        "colab": {
          "base_uri": "https://localhost:8080/",
          "height": 1000
        }
      },
      "source": [
        "acc_rusBoost_L10, precision_rusBoost_L10, recall_rusBoost_L10 = run_RUSBoost(n_estimators=10)\n",
        "acc_rusBoost_L50, precision_rusBoost_L50, recall_rusBoost_L50 = run_RUSBoost(n_estimators=50)\n",
        "acc_rusBoost_L100, precision_rusBoost_L100, recall_rusBoost_L100 = run_RUSBoost(n_estimators=100)"
      ],
      "execution_count": 63,
      "outputs": [
        {
          "output_type": "stream",
          "text": [
            "\n",
            "L = 10: \n",
            "RUSBoost L10 Accuracy: 0.92\n",
            "RUSBoost L10 Precision: 0.78\n",
            "RUSBoost L10 Recall: 0.80\n"
          ],
          "name": "stdout"
        },
        {
          "output_type": "display_data",
          "data": {
            "image/png": "[encoded data removed]",
            "text/plain": [
              "<Figure size 432x288 with 1 Axes>"
            ]
          },
          "metadata": {
            "tags": []
          }
        },
        {
          "output_type": "stream",
          "text": [
            "\n",
            "L = 50: \n",
            "RUSBoost L50 Accuracy: 0.92\n",
            "RUSBoost L50 Precision: 0.77\n",
            "RUSBoost L50 Recall: 0.80\n"
          ],
          "name": "stdout"
        },
        {
          "output_type": "display_data",
          "data": {
            "image/png": "[encoded data removed]",
            "text/plain": [
              "<Figure size 432x288 with 1 Axes>"
            ]
          },
          "metadata": {
            "tags": []
          }
        },
        {
          "output_type": "stream",
          "text": [
            "\n",
            "L = 100: \n",
            "RUSBoost L100 Accuracy: 0.91\n",
            "RUSBoost L100 Precision: 0.76\n",
            "RUSBoost L100 Recall: 0.78\n"
          ],
          "name": "stdout"
        },
        {
          "output_type": "display_data",
          "data": {
            "image/png": "[encoded data removed]",
            "text/plain": [
              "<Figure size 432x288 with 1 Axes>"
            ]
          },
          "metadata": {
            "tags": []
          }
        }
      ]
    },
    {
      "cell_type": "markdown",
      "metadata": {
        "id": "uUYeB5VUbkZK",
        "colab_type": "text"
      },
      "source": [
        "## Accuracy"
      ]
    },
    {
      "cell_type": "code",
      "metadata": {
        "id": "tDNrXKSibm5x",
        "colab_type": "code",
        "outputId": "918d1b51-810c-4151-d7a7-f9d382808e66",
        "colab": {
          "base_uri": "https://localhost:8080/",
          "height": 354
        }
      },
      "source": [
        "groups = 3\n",
        "data = [[acc_smoteBoost_L10, acc_smoteBoost_L50, acc_smoteBoost_L100],\n",
        "[acc_adaBoostM2_L10, acc_adaBoostM2_L50, acc_adaBoostM2_L100],\n",
        "[acc_rbBoost_L10, acc_rbBoost_L50, acc_rbBoost_L100],\n",
        "[acc_rusBoost_L10, acc_rusBoost_L50, acc_rusBoost_L100],\n",
        "[acc_RF_L10, acc_RF_L50, acc_RF_L100],\n",
        "]\n",
        "\n",
        "X = np.arange(1, groups*2, step=2)\n",
        "fig = plt.figure()\n",
        "ax = fig.add_axes([0,0,1,1])\n",
        "\n",
        "\n",
        "ax.bar(X - 0.50, data[0], color = 'b', width = 0.15, label = 'SmoteBoost')\n",
        "ax.bar(X - 0.25, data[1], color = 'g', width = 0.15, label = 'AdaBoost-M2')\n",
        "ax.bar(X + 0.00, data[2], color = 'r', width = 0.15, label = 'RB-Boost')\n",
        "ax.bar(X + 0.25, data[3], color = 'y', width = 0.15, label = 'RUS-Boost')\n",
        "ax.bar(X + 0.50, data[4], color = 'c', width = 0.15, label = 'RandomForest')\n",
        "ax.bar(6.5, acc_svm, color = 'm', width = 0.15, label = 'SVM')\n",
        "\n",
        "plt.xticks(X, ('10', '50', '100'))\n",
        "plt.xlabel('Ensemble Size')\n",
        "plt.ylabel('Accuracy 5-fold')\n",
        "plt.ylim(0,1)\n",
        "plt.legend(loc='lower right')\n",
        "plt.show()"
      ],
      "execution_count": 64,
      "outputs": [
        {
          "output_type": "display_data",
          "data": {
            "image/png": "[encoded data removed]",
            "text/plain": [
              "<Figure size 432x288 with 1 Axes>"
            ]
          },
          "metadata": {
            "tags": []
          }
        }
      ]
    },
    {
      "cell_type": "markdown",
      "metadata": {
        "id": "0JJBBSFRwbtH",
        "colab_type": "text"
      },
      "source": [
        "## Precision"
      ]
    },
    {
      "cell_type": "code",
      "metadata": {
        "id": "W3rI41aVvt7F",
        "colab_type": "code",
        "outputId": "c24171a7-2b4b-4291-abc2-84990f3edc70",
        "colab": {
          "base_uri": "https://localhost:8080/",
          "height": 354
        }
      },
      "source": [
        "groups = 3\n",
        "data = [[precision_smoteBoost_L10, precision_smoteBoost_L50, precision_smoteBoost_L100],\n",
        "[precision_adaBoostM2_L10, precision_adaBoostM2_L50, precision_adaBoostM2_L100],\n",
        "[precision_rbBoost_L10, precision_rbBoost_L50, precision_rbBoost_L100],\n",
        "[precision_rusBoost_L10, precision_rusBoost_L50, precision_rusBoost_L100],\n",
        "[precision_RF_L10, precision_RF_L50, precision_RF_L100],\n",
        "]\n",
        "\n",
        "X = np.arange(1, groups*2, step=2)\n",
        "fig = plt.figure()\n",
        "ax = fig.add_axes([0,0,1,1])\n",
        "\n",
        "\n",
        "ax.bar(X - 0.50, data[0], color = 'b', width = 0.15, label = 'SmoteBoost')\n",
        "ax.bar(X - 0.25, data[1], color = 'g', width = 0.15, label = 'AdaBoost-M2')\n",
        "ax.bar(X + 0.00, data[2], color = 'r', width = 0.15, label = 'RB-Boost')\n",
        "ax.bar(X + 0.25, data[3], color = 'y', width = 0.15, label = 'RUS-Boost')\n",
        "ax.bar(X + 0.50, data[4], color = 'c', width = 0.15, label = 'RandomForest')\n",
        "ax.bar(6.5, precision_svm, color = 'm', width = 0.15, label = 'SVM')\n",
        "\n",
        "plt.xticks(X, ('10', '50', '100'))\n",
        "plt.xlabel('Ensemble Size')\n",
        "plt.ylabel('Macro Average Precision 5-fold')\n",
        "plt.ylim(0,1)\n",
        "plt.legend(loc='upper right')\n",
        "plt.show()"
      ],
      "execution_count": 65,
      "outputs": [
        {
          "output_type": "display_data",
          "data": {
            "image/png": "[encoded data removed]",
            "text/plain": [
              "<Figure size 432x288 with 1 Axes>"
            ]
          },
          "metadata": {
            "tags": []
          }
        }
      ]
    },
    {
      "cell_type": "markdown",
      "metadata": {
        "id": "p1egLXejwfA-",
        "colab_type": "text"
      },
      "source": [
        "## Recall"
      ]
    },
    {
      "cell_type": "code",
      "metadata": {
        "id": "cVa_Mg8ewgPp",
        "colab_type": "code",
        "outputId": "18fd594d-43a6-43bd-85a2-ca5f1287d216",
        "colab": {
          "base_uri": "https://localhost:8080/",
          "height": 354
        }
      },
      "source": [
        "groups = 3\n",
        "data = [[recall_smoteBoost_L10, recall_smoteBoost_L50, recall_smoteBoost_L100],\n",
        "[recall_adaBoostM2_L10, recall_adaBoostM2_L50, recall_adaBoostM2_L100],\n",
        "[recall_rbBoost_L10, recall_rbBoost_L50, recall_rbBoost_L100],\n",
        "[recall_rusBoost_L10, recall_rusBoost_L50, recall_rusBoost_L100],\n",
        "[recall_RF_L10, recall_RF_L50, recall_RF_L100],\n",
        "]\n",
        "\n",
        "X = np.arange(1, groups*2, step=2)\n",
        "fig = plt.figure()\n",
        "ax = fig.add_axes([0,0,1,1])\n",
        "\n",
        "\n",
        "ax.bar(X - 0.50, data[0], color = 'b', width = 0.15, label = 'SmoteBoost')\n",
        "ax.bar(X - 0.25, data[1], color = 'g', width = 0.15, label = 'AdaBoost-M2')\n",
        "ax.bar(X + 0.00, data[2], color = 'r', width = 0.15, label = 'RB-Boost')\n",
        "ax.bar(X + 0.25, data[3], color = 'y', width = 0.15, label = 'RUS-Boost')\n",
        "ax.bar(X + 0.50, data[4], color = 'c', width = 0.15, label = 'RandomForest')\n",
        "ax.bar(6.5, recall_svm, color = 'm', width = 0.15, label = 'SVM')\n",
        "\n",
        "plt.xticks(X, ('10', '50', '100'))\n",
        "plt.xlabel('Ensemble Size')\n",
        "plt.ylabel('Macro Average Recall 5-fold')\n",
        "plt.ylim(0,1)\n",
        "plt.legend(loc='upper right')\n",
        "plt.show()"
      ],
      "execution_count": 66,
      "outputs": [
        {
          "output_type": "display_data",
          "data": {
            "image/png": "[encoded data removed]",
            "text/plain": [
              "<Figure size 432x288 with 1 Axes>"
            ]
          },
          "metadata": {
            "tags": []
          }
        }
      ]
    }
  ]
}