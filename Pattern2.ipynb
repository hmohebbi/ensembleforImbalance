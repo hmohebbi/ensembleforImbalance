{
  "nbformat": 4,
  "nbformat_minor": 0,
  "metadata": {
    "colab": {
      "name": "Pattern2.ipynb",
      "provenance": [],
      "collapsed_sections": []
    },
    "kernelspec": {
      "name": "python3",
      "display_name": "Python 3"
    }
  },
  "cells": [
    {
      "cell_type": "code",
      "metadata": {
        "id": "G_-HhMODNKmM",
        "colab_type": "code",
        "colab": {}
      },
      "source": [
        "from google.colab import drive\n",
        "import os\n",
        "import glob\n",
        "import numpy as np  \n",
        "import random  \n",
        "import pandas as pd \n",
        "from sklearn.ensemble import AdaBoostClassifier\n",
        "from sklearn.preprocessing import normalize\n",
        "from sklearn.tree import DecisionTreeClassifier\n",
        "from sklearn.metrics import accuracy_score\n",
        "from sklearn.metrics import roc_auc_score\n",
        "from sklearn.svm import SVC\n",
        "from sklearn.ensemble import RandomForestClassifier\n",
        "from sklearn.metrics import recall_score\n",
        "from sklearn.metrics import precision_score\n",
        "import math\n",
        "import matplotlib.pyplot as plt"
      ],
      "execution_count": 0,
      "outputs": []
    },
    {
      "cell_type": "code",
      "metadata": {
        "id": "Tl7gaDvvd0o0",
        "colab_type": "code",
        "colab": {}
      },
      "source": [
        "drive.mount('/content/gdrive')"
      ],
      "execution_count": 0,
      "outputs": []
    },
    {
      "cell_type": "code",
      "metadata": {
        "id": "gcR7NjJXd-UP",
        "colab_type": "code",
        "colab": {}
      },
      "source": [
        "!unzip /content/gdrive/My\\ Drive/Dataset/Imbalanced_WineQualityRed/winequality_red_4_5_fold.zip > /dev/null"
      ],
      "execution_count": 0,
      "outputs": []
    },
    {
      "cell_type": "code",
      "metadata": {
        "id": "eg1SpWyHeuvp",
        "colab_type": "code",
        "outputId": "92b0918a-4770-473a-dd88-91a43b2b8050",
        "colab": {
          "base_uri": "https://localhost:8080/",
          "height": 139
        }
      },
      "source": [
        "!ls "
      ],
      "execution_count": 5,
      "outputs": [
        {
          "output_type": "stream",
          "text": [
            "gdrive\t\t\t      winequality-red-4-5-3tra.dat\n",
            "__MACOSX\t\t      winequality-red-4-5-3tst.dat\n",
            "sample_data\t\t      winequality-red-4-5-4tra.dat\n",
            "winequality-red-4-5-1tra.dat  winequality-red-4-5-4tst.dat\n",
            "winequality-red-4-5-1tst.dat  winequality-red-4-5-5tra.dat\n",
            "winequality-red-4-5-2tra.dat  winequality-red-4-5-5tst.dat\n",
            "winequality-red-4-5-2tst.dat\n"
          ],
          "name": "stdout"
        }
      ]
    },
    {
      "cell_type": "markdown",
      "metadata": {
        "id": "7xopfU0kNIaO",
        "colab_type": "text"
      },
      "source": [
        "## Loading 5-folds cross validation dataset"
      ]
    },
    {
      "cell_type": "code",
      "metadata": {
        "id": "gkbcCAu9zREP",
        "colab_type": "code",
        "colab": {}
      },
      "source": [
        "kFold = 5"
      ],
      "execution_count": 0,
      "outputs": []
    },
    {
      "cell_type": "code",
      "metadata": {
        "id": "VJOZZ_o4JaZO",
        "colab_type": "code",
        "outputId": "de4ddfb0-21e4-45c0-a3ab-2fd18b9afbe5",
        "colab": {
          "base_uri": "https://localhost:8080/",
          "height": 141
        }
      },
      "source": [
        "traFiles = sorted(glob.glob('*tra.dat'))\n",
        "tstFiles = sorted(glob.glob('*tst.dat'))\n",
        "X_train = []\n",
        "Y_train = []\n",
        "X_test = []\n",
        "Y_test = []\n",
        "col_names = ['FixedAcidity', 'VolatileAcidity', 'CitricAcid', 'ResidualSugar', 'Chlorides', 'FreeSulfurDioxide', 'TotalSulfurDioxide', 'Density', 'PH', 'Sulphates', 'Alcohol', 'Class']\n",
        "for traPath, tstPath in zip(traFiles, tstFiles):\n",
        "  df_train = pd.read_csv(traPath, skiprows=16, names=col_names, sep=r', ')\n",
        "  df_test = pd.read_csv(tstPath, skiprows=16, names=col_names, sep=r', ')\n",
        "  \n",
        "  X_train.append(df_train[col_names[0:11]])\n",
        "  Y_train.append(df_train['Class'])\n",
        "\n",
        "  X_test.append(df_test[col_names[0:11]])\n",
        "  Y_test.append(df_test['Class'])\n",
        "\n",
        "for i in range(kFold):\n",
        "  X_train[i] = X_train[i].values.tolist() # pandas data frame to list of lists \n",
        "  X_test[i] = X_test[i].values.tolist()\n",
        "  Y_train[i] = [int(y == 'negative') for y in Y_train[i]]\n",
        "  Y_test[i] = [int(y == 'negative') for y in Y_test[i]]"
      ],
      "execution_count": 7,
      "outputs": [
        {
          "output_type": "stream",
          "text": [
            "/usr/local/lib/python3.6/dist-packages/ipykernel_launcher.py:9: ParserWarning: Falling back to the 'python' engine because the 'c' engine does not support regex separators (separators > 1 char and different from '\\s+' are interpreted as regex); you can avoid this warning by specifying engine='python'.\n",
            "  if __name__ == '__main__':\n",
            "/usr/local/lib/python3.6/dist-packages/ipykernel_launcher.py:10: ParserWarning: Falling back to the 'python' engine because the 'c' engine does not support regex separators (separators > 1 char and different from '\\s+' are interpreted as regex); you can avoid this warning by specifying engine='python'.\n",
            "  # Remove the CWD from sys.path while we load stuff.\n",
            "/usr/local/lib/python3.6/dist-packages/ipykernel_launcher.py:9: ParserWarning: Falling back to the 'python' engine because the 'c' engine does not support regex separators (separators > 1 char and different from '\\s+' are interpreted as regex); you can avoid this warning by specifying engine='python'.\n",
            "  if __name__ == '__main__':\n"
          ],
          "name": "stderr"
        }
      ]
    },
    {
      "cell_type": "markdown",
      "metadata": {
        "id": "hcKZX3QGuBxB",
        "colab_type": "text"
      },
      "source": [
        "Minority Class Label : 0 (positive)"
      ]
    },
    {
      "cell_type": "markdown",
      "metadata": {
        "id": "_cWQKHTD56sB",
        "colab_type": "text"
      },
      "source": [
        "### A function for training, evaluating and calculating metrics:"
      ]
    },
    {
      "cell_type": "code",
      "metadata": {
        "id": "ArwOW67Rc2EK",
        "colab_type": "code",
        "colab": {}
      },
      "source": [
        "def classify(model, classifier_name):\n",
        "  acc = precision = recall = 0\n",
        "\n",
        "  for i in range(kFold):\n",
        "    # Training \n",
        "    model.fit(X_train[i], Y_train[i])\n",
        "\n",
        "\n",
        "    # Evaluation\n",
        "    y_pred = model.predict(X_test[i])\n",
        "\n",
        "    # Result\n",
        "    acc += accuracy_score(Y_test[i], y_pred)\n",
        "    precision += precision_score(Y_test[i], y_pred, average='macro', zero_division=0)\n",
        "    recall += recall_score(Y_test[i], y_pred, average='macro', zero_division=0)\n",
        "  \n",
        "  acc /= kFold\n",
        "  precision /= kFold\n",
        "  recall /= kFold\n",
        "\n",
        "  print(\"{} Accuracy: {:.2f}\".format(classifier_name, acc))\n",
        "  print(\"{} Precision: {:.2f}\".format(classifier_name, precision))\n",
        "  print(\"{} Recall: {:.2f}\".format(classifier_name, recall))\n",
        "\n",
        "  return acc, precision, recall"
      ],
      "execution_count": 0,
      "outputs": []
    },
    {
      "cell_type": "markdown",
      "metadata": {
        "id": "9KJezK2obKQE",
        "colab_type": "text"
      },
      "source": [
        "## SVM"
      ]
    },
    {
      "cell_type": "code",
      "metadata": {
        "id": "QA1UJqvybvrq",
        "colab_type": "code",
        "outputId": "31b300b3-853a-4887-8e89-a5bc7e5086b5",
        "colab": {
          "base_uri": "https://localhost:8080/",
          "height": 69
        }
      },
      "source": [
        "model = SVC(kernel ='rbf', gamma='scale', C = 1)\n",
        "acc_svm, precision_svm, recall_svm = classify(model, \"SVM\")"
      ],
      "execution_count": 9,
      "outputs": [
        {
          "output_type": "stream",
          "text": [
            "SVM Accuracy: 0.97\n",
            "SVM Precision: 0.48\n",
            "SVM Recall: 0.50\n"
          ],
          "name": "stdout"
        }
      ]
    },
    {
      "cell_type": "markdown",
      "metadata": {
        "id": "CqDfsmMg4YZN",
        "colab_type": "text"
      },
      "source": [
        "## Random Forest"
      ]
    },
    {
      "cell_type": "markdown",
      "metadata": {
        "id": "SxCTa5Sr7SEJ",
        "colab_type": "text"
      },
      "source": [
        "### L = 10"
      ]
    },
    {
      "cell_type": "code",
      "metadata": {
        "id": "k0hm9sUC4bMR",
        "colab_type": "code",
        "outputId": "66e36ebb-f046-4f06-c3f6-b6836a52ecaf",
        "colab": {
          "base_uri": "https://localhost:8080/",
          "height": 69
        }
      },
      "source": [
        "model = RandomForestClassifier(n_estimators=10, max_depth=1)\n",
        "acc_RF_L10, precision_RF_L10, recall_RF_L10 = classify(model, \"Random Forest L10\")"
      ],
      "execution_count": 10,
      "outputs": [
        {
          "output_type": "stream",
          "text": [
            "Random Forest L10 Accuracy: 0.97\n",
            "Random Forest L10 Precision: 0.48\n",
            "Random Forest L10 Recall: 0.50\n"
          ],
          "name": "stdout"
        }
      ]
    },
    {
      "cell_type": "markdown",
      "metadata": {
        "id": "ObFYrhgv7VGN",
        "colab_type": "text"
      },
      "source": [
        "### L = 50"
      ]
    },
    {
      "cell_type": "code",
      "metadata": {
        "id": "mgOaROUj4-7t",
        "colab_type": "code",
        "outputId": "bb5b2b4d-ed5e-4438-da43-a5f55456917e",
        "colab": {
          "base_uri": "https://localhost:8080/",
          "height": 69
        }
      },
      "source": [
        "model = RandomForestClassifier(n_estimators=50, max_depth=1)\n",
        "acc_RF_L50, precision_RF_L50, recall_RF_L50 = classify(model, \"Random Forest L50\")"
      ],
      "execution_count": 11,
      "outputs": [
        {
          "output_type": "stream",
          "text": [
            "Random Forest L50 Accuracy: 0.97\n",
            "Random Forest L50 Precision: 0.48\n",
            "Random Forest L50 Recall: 0.50\n"
          ],
          "name": "stdout"
        }
      ]
    },
    {
      "cell_type": "markdown",
      "metadata": {
        "id": "xfQt7MMt7Wef",
        "colab_type": "text"
      },
      "source": [
        "### L = 100"
      ]
    },
    {
      "cell_type": "code",
      "metadata": {
        "id": "6jtmKB2g7YCa",
        "colab_type": "code",
        "outputId": "e115a066-d733-4be0-f06f-11e1baade42d",
        "colab": {
          "base_uri": "https://localhost:8080/",
          "height": 69
        }
      },
      "source": [
        "model = RandomForestClassifier(n_estimators=100, max_depth=1)\n",
        "acc_RF_L100, precision_RF_L100, recall_RF_L100 = classify(model, \"Random Forest L100\")"
      ],
      "execution_count": 12,
      "outputs": [
        {
          "output_type": "stream",
          "text": [
            "Random Forest L100 Accuracy: 0.97\n",
            "Random Forest L100 Precision: 0.48\n",
            "Random Forest L100 Recall: 0.50\n"
          ],
          "name": "stdout"
        }
      ]
    },
    {
      "cell_type": "markdown",
      "metadata": {
        "id": "nbcjbraayqT2",
        "colab_type": "text"
      },
      "source": [
        "# SMOTE"
      ]
    },
    {
      "cell_type": "code",
      "metadata": {
        "id": "i8c2g4l-ISlq",
        "colab_type": "code",
        "colab": {}
      },
      "source": [
        "def smote(minority_x, N, k):\n",
        "  \"\"\"\n",
        "  T: Number of minority class samples\n",
        "  N: Amount of SMOTE % (old version)\n",
        "  N: Number of new syntetic data (new version consistent with RBBoost)\n",
        "  k: Number of nearest neighbors\n",
        "  \"\"\"\n",
        "  T = len(minority_x)\n",
        "  # if N < 100:\n",
        "  #   T = int((N/100)*T)\n",
        "  #   N = 100\n",
        "  # N = (int)(N/100)\n",
        "  numattrs = len(minority_x[0])\n",
        "  synthetic = []\n",
        "\n",
        "  #for n in range(T):\n",
        "  for n in range(N):\n",
        "    i = np.random.randint(0, len(minority_x)-1)\n",
        "    nnarray = get_nearest_neighbor(minority_x, minority_x[i], k)\n",
        "    populate(i, N, numattrs, minority_x, nnarray, synthetic, k, n) # n is index\n",
        "\n",
        "  return synthetic"
      ],
      "execution_count": 0,
      "outputs": []
    },
    {
      "cell_type": "code",
      "metadata": {
        "id": "v5WtXWCepf1E",
        "colab_type": "code",
        "colab": {}
      },
      "source": [
        "def get_nearest_neighbor(minority_x, x, k):\n",
        "  \"\"\"\n",
        "  x: data that we want to find its neighbor\n",
        "  \"\"\"\n",
        "\n",
        "  distances = []\n",
        "  nearest_neighbors_index = []\n",
        "\n",
        "  for i in range(len(minority_x)):\n",
        "    if minority_x[i][:] == x:\n",
        "      continue\n",
        "    \n",
        "    # euclidean distance\n",
        "    distance = np.sqrt(np.sum(np.square(np.array(x) - np.array(minority_x[i][:]))))\n",
        "    distances.append([distance, i])\n",
        "\n",
        "  distances = sorted(distances)\n",
        "\n",
        "  # return the k nearest neighbors of x\n",
        "  for i in range(k):\n",
        "    nearest_neighbors_index.append(distances[i][1])\n",
        "\n",
        "  return nearest_neighbors_index"
      ],
      "execution_count": 0,
      "outputs": []
    },
    {
      "cell_type": "code",
      "metadata": {
        "id": "1IpDIMgZsv1V",
        "colab_type": "code",
        "colab": {}
      },
      "source": [
        "def populate(i, N, numattrs, minority_x, nnarray, synthetic, k, new_index):\n",
        "\n",
        "  #new_index = 0\n",
        "  #while N != 0:\n",
        "  nn = np.random.randint(1, k) # booth low and high are inclusive\n",
        "  #This step chooses one of the k nearest neighbors of i\n",
        "\n",
        "  temp = []\n",
        "  for attr in range(numattrs):\n",
        "    dif = minority_x[nnarray[nn]][attr] - minority_x[i][attr]\n",
        "    gap = random.random()\n",
        "    temp.insert(attr, minority_x[i][attr] + gap * dif)\n",
        "\n",
        "  synthetic.insert(new_index, temp)\n",
        "    #new_index += 1\n",
        "    #N = N-1\n",
        "\n",
        "  return"
      ],
      "execution_count": 0,
      "outputs": []
    },
    {
      "cell_type": "code",
      "metadata": {
        "id": "zo9OsySgMqU6",
        "colab_type": "code",
        "outputId": "4b2fec80-e3ed-424b-adc6-cfc70fb3fa57",
        "colab": {
          "base_uri": "https://localhost:8080/",
          "height": 139
        }
      },
      "source": [
        "# DEBUGGING: Testing SMOTE\n",
        "min_x = [X_train[0][i] for i in range(len(X_train[0])) if Y_train[0][i] == 0]\n",
        "print(\"The number of all train objects: \", len(X_train[0]))\n",
        "print(\"The number of minority class objects before SMOTE: \", len(min_x))\n",
        "\n",
        "# N = |Synthetic data| = |minority class objects| * 10\n",
        "X_syn = smote(min_x, N=len(min_x)*10, k=3) \n",
        "print(\"\\nThe number of synthetic objects created from minority class objects after SMOTE:\\n\", len(X_syn))\n",
        "\n",
        "# N = |Synthetic data| = 10\n",
        "X_syn = smote(min_x, N=10, k=3)\n",
        "print(\"The number of synthetic objects created from minority class objects after SMOTE:\\n\", len(X_syn))"
      ],
      "execution_count": 16,
      "outputs": [
        {
          "output_type": "stream",
          "text": [
            "The number of all train objects:  1279\n",
            "The number of minority class objects before SMOTE:  42\n",
            "\n",
            "The number of synthetic objects created from minority class objects after SMOTE:\n",
            " 420\n",
            "The number of synthetic objects created from minority class objects after SMOTE:\n",
            " 10\n"
          ],
          "name": "stdout"
        }
      ]
    },
    {
      "cell_type": "markdown",
      "metadata": {
        "id": "OSBNQ8CaPuVi",
        "colab_type": "text"
      },
      "source": [
        "## SMOTEBOOST"
      ]
    },
    {
      "cell_type": "code",
      "metadata": {
        "id": "2SX9APrj3fER",
        "colab_type": "code",
        "colab": {}
      },
      "source": [
        "def SmoteBoost(X, Y, minority_class, n_estimators):\n",
        "  \"\"\"\n",
        "  minority_class: 0 or 1\n",
        "  n_estimators: Number of classifiers\n",
        "  \"\"\"\n",
        "\n",
        "  classifier_list = []\n",
        "  beta_list = []\n",
        "\n",
        "  D = np.empty(len(X), dtype=np.float64)\n",
        "  D[:] = 1. / len(X)\n",
        "\n",
        "  for T in range(n_estimators):\n",
        "    \n",
        "    minority_x = [X[i] for i in range(len(X)) if Y[i] == minority_class]\n",
        "    X_syn = smote(minority_x, N=len(minority_x)*10, k=5)\n",
        "    Y_syn = np.full(len(X_syn), fill_value=minority_class, dtype=np.int64)\n",
        "\n",
        "    D_syn = np.empty(len(X_syn), dtype=np.float64)\n",
        "    D_syn[:] = 1. / len(X)\n",
        "\n",
        "    new_X = np.vstack((X, X_syn))\n",
        "    new_Y = np.append(Y, Y_syn)\n",
        "\n",
        "    D = np.append(D[:len(X)], D_syn)\n",
        "    D /= sum(D)\n",
        "\n",
        "    decision_tree = DecisionTreeClassifier(max_depth=1)\n",
        "    decision_tree.fit(new_X, new_Y, D)\n",
        "    classifier_list.append(decision_tree)\n",
        "\n",
        "    predict = decision_tree.predict(new_X)\n",
        "    h = decision_tree.predict_proba(new_X)\n",
        "\n",
        "    error = 0\n",
        "    for i in range(len(predict)):\n",
        "      if predict[i] != new_Y[i]:\n",
        "        # (i,y) in B refer to objects that misclassified by classifier\n",
        "        # 1 - the probality of truth class + the probality of other classes\n",
        "        error = error + (D[i] * (1 - h[i][new_Y[i]] + h[i][predict[i]]))\n",
        "        \n",
        "    beta = error / (1 - error)\n",
        "    if math.isnan(beta) or beta == 0:\n",
        "      beta = 1\n",
        "    beta_list.append(beta)\n",
        "    \n",
        "    for i in range(len(new_X)):\n",
        "      # (1 - the probality of other classes + the probality of truth class) * 1/2\n",
        "      w = (1 - h[i][predict[i]] + h[i][new_Y[i]]) / 2\n",
        "\n",
        "      D[i] = D[i] * pow(beta, w)\n",
        "      \n",
        "    D /= sum(D)\n",
        "    \n",
        "  return classifier_list, beta_list\n"
      ],
      "execution_count": 0,
      "outputs": []
    },
    {
      "cell_type": "code",
      "metadata": {
        "id": "GALw9455UK09",
        "colab_type": "code",
        "colab": {}
      },
      "source": [
        "def SmoteBoost_predict(classifier_list, beta_list, X_test):\n",
        "  classes = classifier_list[0].classes_.tolist()\n",
        "  final_proba = np.zeros((len(X_test), 2))\n",
        "  for t in range(len(classifier_list)):\n",
        "    proba = classifier_list[t].predict_proba(X_test)\n",
        "    for j in range(len(X_test)):\n",
        "      proba[j] = [math.log(1 / beta_list[t]) * i for i in proba[j]]\n",
        "\n",
        "    final_proba = final_proba + np.array(proba)\n",
        "\n",
        "  predict_label = []\n",
        "  for l in final_proba:\n",
        "    predict_label.append(classes[l.tolist().index(max(l))])\n",
        "\n",
        "  return predict_label"
      ],
      "execution_count": 0,
      "outputs": []
    },
    {
      "cell_type": "code",
      "metadata": {
        "id": "T-ECA8JAg7cp",
        "colab_type": "code",
        "colab": {}
      },
      "source": [
        "def run_SmoteBoost(n_estimators):\n",
        "  acc_smoteBoost = precision_smoteBoost = recall_smoteBoost = 0\n",
        "\n",
        "  for i in range(kFold):\n",
        "    classifiers, betas = SmoteBoost(X_train[i], Y_train[i], minority_class=0, n_estimators = n_estimators)\n",
        "    y_pred = SmoteBoost_predict(classifiers, betas, X_test[i])\n",
        "\n",
        "    acc_smoteBoost += accuracy_score(Y_test[i], y_pred)\n",
        "    precision_smoteBoost += precision_score(Y_test[i], y_pred, average='macro', zero_division=0)\n",
        "    recall_smoteBoost += recall_score(Y_test[i], y_pred, average='macro', zero_division=0)\n",
        "\n",
        "  acc_smoteBoost /= kFold\n",
        "  precision_smoteBoost /= kFold\n",
        "  recall_smoteBoost /= kFold\n",
        "\n",
        "  print(\"\\nL = {}: \".format(n_estimators))\n",
        "  print(\"SmoteBoost L{} Accuracy: {:.2f}\".format(n_estimators, acc_smoteBoost))\n",
        "  print(\"SmoteBoost L{} Precision: {:.2f}\".format(n_estimators, precision_smoteBoost))\n",
        "  print(\"SmoteBoost L{} Recall: {:.2f}\".format(n_estimators, recall_smoteBoost))\n",
        "\n",
        "  return acc_smoteBoost, precision_smoteBoost, recall_smoteBoost"
      ],
      "execution_count": 0,
      "outputs": []
    },
    {
      "cell_type": "code",
      "metadata": {
        "id": "vy5mOyPuBW7O",
        "colab_type": "code",
        "colab": {
          "base_uri": "https://localhost:8080/",
          "height": 278
        },
        "outputId": "459bc1c1-95cc-48b1-a106-f366ea3e620a"
      },
      "source": [
        "acc_smoteBoost_L10, precision_smoteBoost_L10, recall_smoteBoost_L10 = run_SmoteBoost(n_estimators=10)\n",
        "acc_smoteBoost_L50, precision_smoteBoost_L50, recall_smoteBoost_L50 = run_SmoteBoost(n_estimators=50)\n",
        "acc_smoteBoost_L100, precision_smoteBoost_L100, recall_smoteBoost_L100 = run_SmoteBoost(n_estimators=100)"
      ],
      "execution_count": 127,
      "outputs": [
        {
          "output_type": "stream",
          "text": [
            "\n",
            "L = 10: \n",
            "SmoteBoost L10 Accuracy: 0.86\n",
            "SmoteBoost L10 Precision: 0.53\n",
            "SmoteBoost L10 Recall: 0.60\n",
            "\n",
            "L = 50: \n",
            "SmoteBoost L50 Accuracy: 0.91\n",
            "SmoteBoost L50 Precision: 0.54\n",
            "SmoteBoost L50 Recall: 0.60\n",
            "\n",
            "L = 100: \n",
            "SmoteBoost L100 Accuracy: 0.90\n",
            "SmoteBoost L100 Precision: 0.54\n",
            "SmoteBoost L100 Recall: 0.61\n"
          ],
          "name": "stdout"
        }
      ]
    },
    {
      "cell_type": "markdown",
      "metadata": {
        "id": "jTLfsLN9--h4",
        "colab_type": "text"
      },
      "source": [
        "## Ada-Boost M2"
      ]
    },
    {
      "cell_type": "code",
      "metadata": {
        "id": "8Rwb-wMtAO5C",
        "colab_type": "code",
        "colab": {}
      },
      "source": [
        "def AdaBoostM2(X, Y, n_estimators):\n",
        "  \"\"\"\n",
        "  n_estimators: Number of classifiers\n",
        "  \"\"\"\n",
        "\n",
        "  classifier_list = []\n",
        "  beta_list = []\n",
        "\n",
        "  D = np.empty(len(X), dtype=np.float64)\n",
        "  D[:] = 1. / len(X) \n",
        "  \"\"\"\n",
        "  D must be initialized with 1/|B|\n",
        "  while in classification problems with 2 classes |B| = |m| = len(X)\n",
        "  \"\"\"\n",
        "\n",
        "  for T in range(n_estimators):\n",
        "    \n",
        "    decision_tree = DecisionTreeClassifier(max_depth=1)\n",
        "    decision_tree.fit(X, Y, D)\n",
        "    classifier_list.append(decision_tree)\n",
        "\n",
        "    predict = decision_tree.predict(X)\n",
        "    h = decision_tree.predict_proba(X)\n",
        "\n",
        "    error = 0\n",
        "    for i in range(len(predict)):\n",
        "      if predict[i] != Y[i]: \n",
        "        # (i,y) in B refer to objects that misclassified by classifier\n",
        "        # 1 - the probality of truth class + the probality of other classes\n",
        "        error = error + (D[i] * (1 - h[i][Y[i]] + h[i][predict[i]]))\n",
        "        \n",
        "    beta = error / (1 - error)\n",
        "    if math.isnan(beta) or beta == 0:\n",
        "      beta = 1\n",
        "    beta_list.append(beta)\n",
        "    \n",
        "    for i in range(len(X)):\n",
        "      # (1 + the probality of truth class - the probality of other classes) * 1/2\n",
        "      w = (1 + h[i][Y[i]] - h[i][predict[i]]) / 2\n",
        "\n",
        "      D[i] = D[i] * pow(beta, w)\n",
        "      \n",
        "    D /= sum(D)\n",
        "    \n",
        "  return classifier_list, beta_list"
      ],
      "execution_count": 0,
      "outputs": []
    },
    {
      "cell_type": "code",
      "metadata": {
        "id": "Obpa2qSBL7Uo",
        "colab_type": "code",
        "colab": {}
      },
      "source": [
        "def AdaBoostM2_predict(classifier_list, beta_list, X_test):\n",
        "  classes = classifier_list[0].classes_.tolist()\n",
        "  final_proba = np.zeros((len(X_test), 2))\n",
        "  for t in range(len(classifier_list)):\n",
        "    proba = classifier_list[t].predict_proba(X_test)\n",
        "    for j in range(len(X_test)):\n",
        "      proba[j] = [math.log(1 / beta_list[t]) * i for i in proba[j]]\n",
        "\n",
        "    final_proba = final_proba + np.array(proba)\n",
        "\n",
        "  predict_label = []\n",
        "  for l in final_proba:\n",
        "    predict_label.append(classes[l.tolist().index(max(l))])\n",
        "\n",
        "  return predict_label"
      ],
      "execution_count": 0,
      "outputs": []
    },
    {
      "cell_type": "code",
      "metadata": {
        "id": "FdllkKtEMhrH",
        "colab_type": "code",
        "colab": {}
      },
      "source": [
        "def run_AdaBoostM2(n_estimators):\n",
        "  acc_adaBoostM2 = precision_adaBoostM2 = recall_adaBoostM2 = 0\n",
        "\n",
        "  for i in range(kFold):\n",
        "    classifiers, betas = AdaBoostM2(X_train[i], Y_train[i], n_estimators = n_estimators)\n",
        "    y_pred = AdaBoostM2_predict(classifiers, betas, X_test[i])\n",
        "\n",
        "    acc_adaBoostM2 += accuracy_score(Y_test[i], y_pred)\n",
        "    precision_adaBoostM2 += precision_score(Y_test[i], y_pred, average='macro', zero_division=0)\n",
        "    recall_adaBoostM2 += recall_score(Y_test[i], y_pred, average='macro', zero_division=0)\n",
        "\n",
        "  acc_adaBoostM2 /= kFold\n",
        "  precision_adaBoostM2 /= kFold\n",
        "  recall_adaBoostM2 /= kFold\n",
        "\n",
        "  print(\"\\nL = {}: \".format(n_estimators))\n",
        "  print(\"AdaBoost-M2 L{} Accuracy: {:.2f}\".format(n_estimators, acc_adaBoostM2))\n",
        "  print(\"AdaBoost-M2 L{} Precision: {:.2f}\".format(n_estimators, precision_adaBoostM2))\n",
        "  print(\"AdaBoost-M2 L{} Recall: {:.2f}\".format(n_estimators, recall_adaBoostM2))\n",
        "\n",
        "  return acc_adaBoostM2, precision_adaBoostM2, recall_adaBoostM2"
      ],
      "execution_count": 0,
      "outputs": []
    },
    {
      "cell_type": "code",
      "metadata": {
        "id": "d322dQpjMj76",
        "colab_type": "code",
        "outputId": "b607e5e6-784f-4e33-ced7-341d980e7ab1",
        "colab": {
          "base_uri": "https://localhost:8080/",
          "height": 278
        }
      },
      "source": [
        "acc_adaBoostM2_L10, precision_adaBoostM2_L10, recall_adaBoostM2_L10 = run_AdaBoostM2(n_estimators=10)\n",
        "acc_adaBoostM2_L50, precision_adaBoostM2_L50, recall_adaBoostM2_L50 = run_AdaBoostM2(n_estimators=50)\n",
        "acc_adaBoostM2_L100, precision_adaBoostM2_L100, recall_adaBoostM2_L100 = run_AdaBoostM2(n_estimators=100)"
      ],
      "execution_count": 24,
      "outputs": [
        {
          "output_type": "stream",
          "text": [
            "\n",
            "L = 10: \n",
            "AdaBoost-M2 L10 Accuracy: 0.97\n",
            "AdaBoost-M2 L10 Precision: 0.48\n",
            "AdaBoost-M2 L10 Recall: 0.50\n",
            "\n",
            "L = 50: \n",
            "AdaBoost-M2 L50 Accuracy: 0.97\n",
            "AdaBoost-M2 L50 Precision: 0.48\n",
            "AdaBoost-M2 L50 Recall: 0.50\n",
            "\n",
            "L = 100: \n",
            "AdaBoost-M2 L100 Accuracy: 0.97\n",
            "AdaBoost-M2 L100 Precision: 0.48\n",
            "AdaBoost-M2 L100 Recall: 0.50\n"
          ],
          "name": "stdout"
        }
      ]
    },
    {
      "cell_type": "markdown",
      "metadata": {
        "id": "plTxooPeoewR",
        "colab_type": "text"
      },
      "source": [
        "## Random Balancex"
      ]
    },
    {
      "cell_type": "code",
      "metadata": {
        "id": "nrsMWD8ZoeR3",
        "colab_type": "code",
        "colab": {}
      },
      "source": [
        "def Random_Balancex(X, Y, minority_class):\n",
        "  \n",
        "  minority_x = [X[i] for i in range(len(X)) if Y[i] == minority_class]\n",
        "  majority_x = [X[i] for i in range(len(X)) if Y[i] != minority_class]\n",
        "  \n",
        "  total_size = len(X)\n",
        "  minority_size = len(minority_x)\n",
        "  majority_size = len(majority_x)\n",
        "  \n",
        "  new_majority_size = np.random.randint(2, total_size - 2)\n",
        "  # Resulting classes will have at least 2 instances\n",
        "  new_minority_size = total_size - new_majority_size\n",
        "\n",
        "  new_X = []\n",
        "  new_Y = []\n",
        "\n",
        "  if new_majority_size < majority_size:\n",
        "    new_X.extend(minority_x)\n",
        "    new_Y.extend([minority_class] * minority_size)\n",
        "\n",
        "    new_X.extend(random.sample(majority_x, new_majority_size))\n",
        "    new_Y.extend([1-minority_class] * new_majority_size)\n",
        "\n",
        "    new_X.extend(smote(minority_x, N=new_minority_size - minority_size, k=3))\n",
        "    new_Y.extend([minority_class] * (new_minority_size - minority_size))\n",
        "\n",
        "  else:\n",
        "    new_X.extend(majority_x)\n",
        "    new_Y.extend([1-minority_class] * majority_size)\n",
        "\n",
        "    new_X.extend(random.sample(minority_x, new_minority_size))\n",
        "    new_Y.extend([minority_class] * new_minority_size)\n",
        "\n",
        "    new_X.extend(smote(majority_x, new_majority_size - majority_size, k=3))\n",
        "    new_Y.extend([1-minority_class] * (new_majority_size - majority_size))\n",
        "  \n",
        "  return new_X, new_Y"
      ],
      "execution_count": 0,
      "outputs": []
    },
    {
      "cell_type": "markdown",
      "metadata": {
        "id": "VoUFze0OnqbN",
        "colab_type": "text"
      },
      "source": [
        "## RB-Boost\n",
        "Binary Classification"
      ]
    },
    {
      "cell_type": "code",
      "metadata": {
        "id": "OK075UEMoazy",
        "colab_type": "code",
        "colab": {}
      },
      "source": [
        "def RBBoost(X, Y, minority_class, n_estimators):\n",
        "  \"\"\"\n",
        "  minority_class: 0 or 1\n",
        "  n_estimators: Number of classifiers\n",
        "  \"\"\"\n",
        "\n",
        "  classifier_list = []\n",
        "  beta_list = []\n",
        "\n",
        "  D = np.empty(len(X), dtype=np.float64)\n",
        "  D[:] = 1. / len(X)\n",
        "\n",
        "  for T in range(n_estimators):\n",
        "    \n",
        "    new_X, new_Y = Random_Balancex(X, Y, minority_class)\n",
        "\n",
        "    for i in range(len(X)):\n",
        "      \"\"\" If the example is from the sample it maintains its weight, if the\n",
        "          example is artificial it has the initial weight.\"\"\"\n",
        "\n",
        "      if new_X[i] not in X: \n",
        "        D[i] = 1. / len(X)\n",
        "\n",
        "    D /= sum(D)\n",
        "\n",
        "    decision_tree = DecisionTreeClassifier(max_depth=1)\n",
        "    decision_tree.fit(new_X, new_Y, D)\n",
        "    classifier_list.append(decision_tree)\n",
        "\n",
        "    predict = decision_tree.predict(new_X)\n",
        "    h = decision_tree.predict_proba(new_X)\n",
        "\n",
        "    error = 0\n",
        "    for i in range(len(predict)):\n",
        "      if predict[i] != new_Y[i]:\n",
        "        # (i,y) in B refer to objects that misclassified by classifier\n",
        "        # 1 - the probality of truth class + the probality of other classes\n",
        "        error = error + (D[i] * (1 - h[i][new_Y[i]] + h[i][predict[i]]))\n",
        "        \n",
        "    beta = error / (1 - error)\n",
        "    if math.isnan(beta) or beta == 0:\n",
        "      beta = 1\n",
        "    beta_list.append(beta)\n",
        "    \n",
        "    for i in range(len(new_X)):\n",
        "      # (1 + the probality of truth class - the probality of other classes) * 1/2\n",
        "      w = (1 + h[i][new_Y[i]] - h[i][predict[i]]) / 2\n",
        "\n",
        "      D[i] = D[i] * pow(beta, w)\n",
        "      \n",
        "    D /= sum(D)\n",
        "    \n",
        "  return classifier_list, beta_list"
      ],
      "execution_count": 0,
      "outputs": []
    },
    {
      "cell_type": "code",
      "metadata": {
        "id": "CFnWymOT_0hw",
        "colab_type": "code",
        "colab": {}
      },
      "source": [
        "def RBBoost_predict(classifier_list, beta_list, X_test):\n",
        "  classes = classifier_list[0].classes_.tolist()\n",
        "  final_proba = np.zeros((len(X_test), 2))\n",
        "  for t in range(len(classifier_list)):\n",
        "    proba = classifier_list[t].predict_proba(X_test)\n",
        "    for j in range(len(X_test)):\n",
        "      proba[j] = [math.log(1 / beta_list[t]) * i for i in proba[j]]\n",
        "\n",
        "    final_proba = final_proba + np.array(proba)\n",
        "\n",
        "  predict_label = []\n",
        "  for l in final_proba:\n",
        "    predict_label.append(classes[l.tolist().index(max(l))])\n",
        "\n",
        "  return predict_label"
      ],
      "execution_count": 0,
      "outputs": []
    },
    {
      "cell_type": "code",
      "metadata": {
        "id": "lnJ9QXCm_-V8",
        "colab_type": "code",
        "colab": {}
      },
      "source": [
        "def run_RBBoost(n_estimators):\n",
        "  acc_rbBoost = precision_rbBoost = recall_rbBoost = 0\n",
        "\n",
        "  for i in range(kFold):\n",
        "    classifiers, betas = RBBoost(X_train[i], Y_train[i], minority_class=0, n_estimators = n_estimators)\n",
        "    y_pred = RBBoost_predict(classifiers, betas, X_test[i])\n",
        "\n",
        "    acc_rbBoost += accuracy_score(Y_test[i], y_pred)\n",
        "    precision_rbBoost += precision_score(Y_test[i], y_pred, average='macro', zero_division=0)\n",
        "    recall_rbBoost += recall_score(Y_test[i], y_pred, average='macro', zero_division=0)\n",
        "\n",
        "  acc_rbBoost /= kFold\n",
        "  precision_rbBoost /= kFold\n",
        "  recall_rbBoost /= kFold\n",
        "\n",
        "  print(\"\\nL = {}: \".format(n_estimators))\n",
        "  print(\"RBBoost L{} Accuracy: {:.2f}\".format(n_estimators, acc_rbBoost))\n",
        "  print(\"RBBoost L{} Precision: {:.2f}\".format(n_estimators, precision_rbBoost))\n",
        "  print(\"RBBoost L{} Recall: {:.2f}\".format(n_estimators, recall_rbBoost))\n",
        "\n",
        "  return acc_rbBoost, precision_rbBoost, recall_rbBoost"
      ],
      "execution_count": 0,
      "outputs": []
    },
    {
      "cell_type": "code",
      "metadata": {
        "id": "NzfeI7JW-eHq",
        "colab_type": "code",
        "colab": {
          "base_uri": "https://localhost:8080/",
          "height": 278
        },
        "outputId": "d5690383-8bac-4ba6-e5c5-ad13a8283a74"
      },
      "source": [
        "acc_rbBoost_L10, precision_rbBoost_L10, recall_rbBoost_L10 = run_RBBoost(n_estimators=10)\n",
        "acc_rbBoost_L50, precision_rbBoost_L50, recall_rbBoost_L50 = run_RBBoost(n_estimators=50)\n",
        "acc_rbBoost_L100, precision_rbBoost_L100, recall_rbBoost_L100 = run_RBBoost(n_estimators=100)"
      ],
      "execution_count": 117,
      "outputs": [
        {
          "output_type": "stream",
          "text": [
            "\n",
            "L = 10: \n",
            "RBBoost L10 Accuracy: 0.82\n",
            "RBBoost L10 Precision: 0.52\n",
            "RBBoost L10 Recall: 0.57\n",
            "\n",
            "L = 50: \n",
            "RBBoost L50 Accuracy: 0.65\n",
            "RBBoost L50 Precision: 0.53\n",
            "RBBoost L50 Recall: 0.65\n",
            "\n",
            "L = 100: \n",
            "RBBoost L100 Accuracy: 0.87\n",
            "RBBoost L100 Precision: 0.54\n",
            "RBBoost L100 Recall: 0.63\n"
          ],
          "name": "stdout"
        }
      ]
    },
    {
      "cell_type": "markdown",
      "metadata": {
        "id": "5gykh2yXPRLG",
        "colab_type": "text"
      },
      "source": [
        "## RUSBoost\n",
        "Binary Classification"
      ]
    },
    {
      "cell_type": "code",
      "metadata": {
        "id": "X0EuCj6wy60X",
        "colab_type": "code",
        "colab": {}
      },
      "source": [
        "def RUSBoost(X, Y, minority_class, n_estimators):\n",
        "  \"\"\"\n",
        "  minority_class: 0 or 1\n",
        "  n_estimators: Number of classifiers\n",
        "  \"\"\"\n",
        "\n",
        "  classifier_list = []\n",
        "  alpha_list = []\n",
        "\n",
        "  D = np.empty(len(X), dtype=np.float64)\n",
        "  D[:] = 1. / len(X)\n",
        "\n",
        "  for T in range(n_estimators):\n",
        "    \n",
        "    minority_x = [X[i] for i in range(len(X)) if Y[i] == minority_class]\n",
        "    majority_x = [X[i] for i in range(len(X)) if Y[i] != minority_class]\n",
        "\n",
        "    minority_D = [D[i] for i in range(len(D)) if Y[i] == minority_class]\n",
        "    majority_D = [D[i] for i in range(len(D)) if Y[i] != minority_class]\n",
        "\n",
        "    total_size = len(X)\n",
        "    minority_size = len(minority_x)\n",
        "    majority_size = len(majority_x)\n",
        "\n",
        "    new_X = []\n",
        "    new_Y = []\n",
        "    new_D = []\n",
        "\n",
        "    new_X.extend(minority_x)\n",
        "    new_D.extend(minority_D)\n",
        "    new_Y.extend([minority_class] * minority_size)\n",
        "\n",
        "    XD = list(zip(majority_x, majority_D))\n",
        "    maj_selected = random.sample(XD, minority_size) # 50-50\n",
        "    new_X.extend( [i[0] for i in maj_selected] ) \n",
        "    new_D.extend( [i[1] for i in maj_selected] ) \n",
        "    new_Y.extend([1-minority_class] * minority_size)\n",
        "\n",
        "    #new_D /= sum(new_D)\n",
        "\n",
        "    decision_tree = DecisionTreeClassifier(max_depth=1)\n",
        "    decision_tree.fit(new_X, new_Y, new_D)\n",
        "    classifier_list.append(decision_tree)\n",
        "\n",
        "    predict = decision_tree.predict(X)\n",
        "    h = decision_tree.predict_proba(X)\n",
        "\n",
        "    error = 0\n",
        "    for i in range(len(predict)):\n",
        "      if predict[i] != Y[i]:\n",
        "        # (i,y) in B refer to objects that misclassified by classifier\n",
        "        # 1 - the probality of truth class + the probality of other classes\n",
        "        error = error + (D[i] * (1 - h[i][Y[i]] + h[i][predict[i]]))\n",
        "        \n",
        "    alpha = error / (1 - error)\n",
        "    if math.isnan(alpha) or alpha == 0:\n",
        "      alpha = 1\n",
        "    alpha_list.append(alpha)\n",
        "    \n",
        "    for i in range(len(X)):\n",
        "      # (1 + the probality of truth class - the probality of other classes) * 1/2\n",
        "      w = (1 + h[i][Y[i]] - h[i][predict[i]]) / 2\n",
        "\n",
        "      D[i] = D[i] * pow(alpha, w)\n",
        "      \n",
        "    D /= sum(D)\n",
        "    \n",
        "  return classifier_list, alpha_list"
      ],
      "execution_count": 0,
      "outputs": []
    },
    {
      "cell_type": "code",
      "metadata": {
        "id": "_lfC_lB5Ky6K",
        "colab_type": "code",
        "colab": {}
      },
      "source": [
        "def RUSBoost_predict(classifier_list, alpha_list, X_test):\n",
        "  classes = classifier_list[0].classes_.tolist()\n",
        "  final_proba = np.zeros((len(X_test), 2))\n",
        "  for t in range(len(classifier_list)):\n",
        "    proba = classifier_list[t].predict_proba(X_test)\n",
        "    for j in range(len(X_test)):\n",
        "      proba[j] = [math.log(1 / alpha_list[t]) * i for i in proba[j]]\n",
        "\n",
        "    final_proba = final_proba + np.array(proba)\n",
        "\n",
        "  predict_label = []\n",
        "  for l in final_proba:\n",
        "    predict_label.append(classes[l.tolist().index(max(l))])\n",
        "\n",
        "  return predict_label"
      ],
      "execution_count": 0,
      "outputs": []
    },
    {
      "cell_type": "code",
      "metadata": {
        "id": "3E91HPWYLVg1",
        "colab_type": "code",
        "colab": {}
      },
      "source": [
        "def run_RUSBoost(n_estimators):\n",
        "  acc_rusBoost = precision_rusBoost = recall_rusBoost = 0\n",
        "\n",
        "  for i in range(kFold):\n",
        "    classifiers, alphas = RUSBoost(X_train[i], Y_train[i], minority_class=0, n_estimators = n_estimators)\n",
        "    y_pred = RUSBoost_predict(classifiers, alphas, X_test[i])\n",
        "\n",
        "    acc_rusBoost += accuracy_score(Y_test[i], y_pred)\n",
        "    precision_rusBoost += precision_score(Y_test[i], y_pred, average='macro', zero_division=0)\n",
        "    recall_rusBoost += recall_score(Y_test[i], y_pred, average='macro', zero_division=0)\n",
        "\n",
        "  acc_rusBoost /= kFold\n",
        "  precision_rusBoost /= kFold\n",
        "  recall_rusBoost /= kFold\n",
        "\n",
        "  print(\"\\nL = {}: \".format(n_estimators))\n",
        "  print(\"RUSBoost L{} Accuracy: {:.2f}\".format(n_estimators, acc_rusBoost))\n",
        "  print(\"RUSBoost L{} Precision: {:.2f}\".format(n_estimators, precision_rusBoost))\n",
        "  print(\"RUSBoost L{} Recall: {:.2f}\".format(n_estimators, recall_rusBoost))\n",
        "\n",
        "  return acc_rusBoost, precision_rusBoost, recall_rusBoost"
      ],
      "execution_count": 0,
      "outputs": []
    },
    {
      "cell_type": "code",
      "metadata": {
        "id": "V4X4uKv7LXeX",
        "colab_type": "code",
        "outputId": "8654c9c0-d640-4a6b-dc31-82fd1e9400dd",
        "colab": {
          "base_uri": "https://localhost:8080/",
          "height": 278
        }
      },
      "source": [
        "acc_rusBoost_L10, precision_rusBoost_L10, recall_rusBoost_L10 = run_RUSBoost(n_estimators=10)\n",
        "acc_rusBoost_L50, precision_rusBoost_L50, recall_rusBoost_L50 = run_RUSBoost(n_estimators=50)\n",
        "acc_rusBoost_L100, precision_rusBoost_L100, recall_rusBoost_L100 = run_RUSBoost(n_estimators=100)"
      ],
      "execution_count": 42,
      "outputs": [
        {
          "output_type": "stream",
          "text": [
            "\n",
            "L = 10: \n",
            "RUSBoost L10 Accuracy: 0.58\n",
            "RUSBoost L10 Precision: 0.50\n",
            "RUSBoost L10 Recall: 0.52\n",
            "\n",
            "L = 50: \n",
            "RUSBoost L50 Accuracy: 0.58\n",
            "RUSBoost L50 Precision: 0.48\n",
            "RUSBoost L50 Recall: 0.37\n",
            "\n",
            "L = 100: \n",
            "RUSBoost L100 Accuracy: 0.66\n",
            "RUSBoost L100 Precision: 0.49\n",
            "RUSBoost L100 Recall: 0.45\n"
          ],
          "name": "stdout"
        }
      ]
    },
    {
      "cell_type": "markdown",
      "metadata": {
        "id": "uUYeB5VUbkZK",
        "colab_type": "text"
      },
      "source": [
        "## Accuracy"
      ]
    },
    {
      "cell_type": "code",
      "metadata": {
        "id": "tDNrXKSibm5x",
        "colab_type": "code",
        "outputId": "9fc13773-55f4-4cd4-b82b-0950788520f2",
        "colab": {
          "base_uri": "https://localhost:8080/",
          "height": 354
        }
      },
      "source": [
        "groups = 3\n",
        "data = [[acc_smoteBoost_L10, acc_smoteBoost_L50, acc_smoteBoost_L100],\n",
        "[acc_adaBoostM2_L10, acc_adaBoostM2_L50, acc_adaBoostM2_L100],\n",
        "[acc_rbBoost_L10, acc_rbBoost_L50, acc_rbBoost_L100],\n",
        "[acc_rusBoost_L10, acc_rusBoost_L50, acc_rusBoost_L100],\n",
        "[acc_RF_L10, acc_RF_L50, acc_RF_L100],\n",
        "]\n",
        "\n",
        "X = np.arange(1, groups*2, step=2)\n",
        "fig = plt.figure()\n",
        "ax = fig.add_axes([0,0,1,1])\n",
        "\n",
        "\n",
        "ax.bar(X - 0.50, data[0], color = 'b', width = 0.15, label = 'SmoteBoost')\n",
        "ax.bar(X - 0.25, data[1], color = 'g', width = 0.15, label = 'AdaBoost-M2')\n",
        "ax.bar(X + 0.00, data[2], color = 'r', width = 0.15, label = 'RB-Boost')\n",
        "ax.bar(X + 0.25, data[3], color = 'y', width = 0.15, label = 'RUS-Boost')\n",
        "ax.bar(X + 0.50, data[4], color = 'c', width = 0.15, label = 'RandomForest')\n",
        "ax.bar(6.5, acc_svm, color = 'm', width = 0.15, label = 'SVM')\n",
        "\n",
        "plt.xticks(X, ('10', '50', '100'))\n",
        "plt.xlabel('Ensemble Size')\n",
        "plt.ylabel('Accuracy 5-fold')\n",
        "plt.ylim(0,1)\n",
        "plt.legend(loc='lower right')\n",
        "plt.show()"
      ],
      "execution_count": 128,
      "outputs": [
        {
          "output_type": "display_data",
          "data": {
            "image/png": "[encoded data removed]",
            "text/plain": [
              "<Figure size 432x288 with 1 Axes>"
            ]
          },
          "metadata": {
            "tags": []
          }
        }
      ]
    },
    {
      "cell_type": "markdown",
      "metadata": {
        "id": "0JJBBSFRwbtH",
        "colab_type": "text"
      },
      "source": [
        "## Precision"
      ]
    },
    {
      "cell_type": "code",
      "metadata": {
        "id": "W3rI41aVvt7F",
        "colab_type": "code",
        "colab": {
          "base_uri": "https://localhost:8080/",
          "height": 354
        },
        "outputId": "11386ab7-a079-466f-f754-650520f5cd4a"
      },
      "source": [
        "groups = 3\n",
        "data = [[precision_smoteBoost_L10, precision_smoteBoost_L50, precision_smoteBoost_L100],\n",
        "[precision_adaBoostM2_L10, precision_adaBoostM2_L50, precision_adaBoostM2_L100],\n",
        "[precision_rbBoost_L10, precision_rbBoost_L50, precision_rbBoost_L100],\n",
        "[precision_rusBoost_L10, precision_rusBoost_L50, precision_rusBoost_L100],\n",
        "[precision_RF_L10, precision_RF_L50, precision_RF_L100],\n",
        "]\n",
        "\n",
        "X = np.arange(1, groups*2, step=2)\n",
        "fig = plt.figure()\n",
        "ax = fig.add_axes([0,0,1,1])\n",
        "\n",
        "\n",
        "ax.bar(X - 0.50, data[0], color = 'b', width = 0.15, label = 'SmoteBoost')\n",
        "ax.bar(X - 0.25, data[1], color = 'g', width = 0.15, label = 'AdaBoost-M2')\n",
        "ax.bar(X + 0.00, data[2], color = 'r', width = 0.15, label = 'RB-Boost')\n",
        "ax.bar(X + 0.25, data[3], color = 'y', width = 0.15, label = 'RUS-Boost')\n",
        "ax.bar(X + 0.50, data[4], color = 'c', width = 0.15, label = 'RandomForest')\n",
        "ax.bar(6.5, precision_svm, color = 'm', width = 0.15, label = 'SVM')\n",
        "\n",
        "plt.xticks(X, ('10', '50', '100'))\n",
        "plt.xlabel('Ensemble Size')\n",
        "plt.ylabel('Macro Average Precision 5-fold')\n",
        "plt.ylim(0,1)\n",
        "plt.legend(loc='upper right')\n",
        "plt.show()"
      ],
      "execution_count": 129,
      "outputs": [
        {
          "output_type": "display_data",
          "data": {
            "image/png": "[encoded data removed]",
            "text/plain": [
              "<Figure size 432x288 with 1 Axes>"
            ]
          },
          "metadata": {
            "tags": []
          }
        }
      ]
    },
    {
      "cell_type": "markdown",
      "metadata": {
        "id": "p1egLXejwfA-",
        "colab_type": "text"
      },
      "source": [
        "## Recall"
      ]
    },
    {
      "cell_type": "code",
      "metadata": {
        "id": "cVa_Mg8ewgPp",
        "colab_type": "code",
        "colab": {
          "base_uri": "https://localhost:8080/",
          "height": 354
        },
        "outputId": "b37c8ccb-b2ef-4a4b-956d-caf4d9c4fe5e"
      },
      "source": [
        "groups = 3\n",
        "data = [[recall_smoteBoost_L10, recall_smoteBoost_L50, recall_smoteBoost_L100],\n",
        "[recall_adaBoostM2_L10, recall_adaBoostM2_L50, recall_adaBoostM2_L100],\n",
        "[recall_rbBoost_L10, recall_rbBoost_L50, recall_rbBoost_L100],\n",
        "[recall_rusBoost_L10, recall_rusBoost_L50, recall_rusBoost_L100],\n",
        "[recall_RF_L10, recall_RF_L50, recall_RF_L100],\n",
        "]\n",
        "\n",
        "X = np.arange(1, groups*2, step=2)\n",
        "fig = plt.figure()\n",
        "ax = fig.add_axes([0,0,1,1])\n",
        "\n",
        "\n",
        "ax.bar(X - 0.50, data[0], color = 'b', width = 0.15, label = 'SmoteBoost')\n",
        "ax.bar(X - 0.25, data[1], color = 'g', width = 0.15, label = 'AdaBoost-M2')\n",
        "ax.bar(X + 0.00, data[2], color = 'r', width = 0.15, label = 'RB-Boost')\n",
        "ax.bar(X + 0.25, data[3], color = 'y', width = 0.15, label = 'RUS-Boost')\n",
        "ax.bar(X + 0.50, data[4], color = 'c', width = 0.15, label = 'RandomForest')\n",
        "ax.bar(6.5, recall_svm, color = 'm', width = 0.15, label = 'SVM')\n",
        "\n",
        "plt.xticks(X, ('10', '50', '100'))\n",
        "plt.xlabel('Ensemble Size')\n",
        "plt.ylabel('Macro Average Recall 5-fold')\n",
        "plt.ylim(0,1)\n",
        "plt.legend(loc='upper right')\n",
        "plt.show()"
      ],
      "execution_count": 130,
      "outputs": [
        {
          "output_type": "display_data",
          "data": {
            "image/png": "[encoded data removed]",
            "text/plain": [
              "<Figure size 432x288 with 1 Axes>"
            ]
          },
          "metadata": {
            "tags": []
          }
        }
      ]
    },
    {
      "cell_type": "code",
      "metadata": {
        "id": "bAqu9-VY7QIc",
        "colab_type": "code",
        "colab": {}
      },
      "source": [
        ""
      ],
      "execution_count": 0,
      "outputs": []
    }
  ]
}